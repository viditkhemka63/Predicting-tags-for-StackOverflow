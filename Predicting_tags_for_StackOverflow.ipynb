{
  "nbformat": 4,
  "nbformat_minor": 0,
  "metadata": {
    "colab": {
      "name": "Predicting tags for StackOverflow.ipynb",
      "version": "0.3.2",
      "provenance": [],
      "collapsed_sections": [],
      "include_colab_link": true
    },
    "kernelspec": {
      "name": "python3",
      "display_name": "Python 3"
    },
    "accelerator": "GPU"
  },
  "cells": [
    {
      "cell_type": "markdown",
      "metadata": {
        "id": "view-in-github",
        "colab_type": "text"
      },
      "source": [
        "<a href=\"https://colab.research.google.com/github/viditkhemka63/Predicting-tags-for-StackOverflow/blob/master/Predicting_tags_for_StackOverflow.ipynb\" target=\"_parent\"><img src=\"https://colab.research.google.com/assets/colab-badge.svg\" alt=\"Open In Colab\"/></a>"
      ]
    },
    {
      "cell_type": "markdown",
      "metadata": {
        "id": "LjitFZfZIsqD",
        "colab_type": "text"
      },
      "source": [
        "# Predicting tags for stackoverflow \n",
        "![](https://stackoverflow.blog/wp-content/uploads/2018/05/SO_Teams.png)\n",
        "<br>\n",
        "<br>\n",
        "\n",
        "<!-- ![](https://i.imgur.com/sWyuy4Y.jpg) -->"
      ]
    },
    {
      "cell_type": "markdown",
      "metadata": {
        "id": "fadfYQ6542AN",
        "colab_type": "text"
      },
      "source": [
        "# Downloading Data from Kaggle"
      ]
    },
    {
      "cell_type": "code",
      "metadata": {
        "id": "axyJOXaDGdDN",
        "colab_type": "code",
        "colab": {}
      },
      "source": [
        "! pip install -q kaggle"
      ],
      "execution_count": 0,
      "outputs": []
    },
    {
      "cell_type": "code",
      "metadata": {
        "id": "ZiJUhto1Gsfe",
        "colab_type": "code",
        "colab": {
          "resources": {
            "http://localhost:8080/nbextensions/google.colab/files.js": {
              "data": "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",
              "ok": true,
              "headers": [
                [
                  "content-type",
                  "application/javascript"
                ]
              ],
              "status": 200,
              "status_text": ""
            }
          },
          "base_uri": "https://localhost:8080/",
          "height": 91
        },
        "outputId": "6b9a877f-466e-4555-cb90-3b3f3f0f4114"
      },
      "source": [
        "from google.colab import files\n",
        "files.upload()"
      ],
      "execution_count": 2,
      "outputs": [
        {
          "output_type": "display_data",
          "data": {
            "text/html": [
              "\n",
              "     <input type=\"file\" id=\"files-c1ff8ca3-3980-41a0-94d9-b7fc337c5a82\" name=\"files[]\" multiple disabled />\n",
              "     <output id=\"result-c1ff8ca3-3980-41a0-94d9-b7fc337c5a82\">\n",
              "      Upload widget is only available when the cell has been executed in the\n",
              "      current browser session. Please rerun this cell to enable.\n",
              "      </output>\n",
              "      <script src=\"/nbextensions/google.colab/files.js\"></script> "
            ],
            "text/plain": [
              "<IPython.core.display.HTML object>"
            ]
          },
          "metadata": {
            "tags": []
          }
        },
        {
          "output_type": "stream",
          "text": [
            "Saving kaggle.json to kaggle.json\n"
          ],
          "name": "stdout"
        },
        {
          "output_type": "execute_result",
          "data": {
            "text/plain": [
              "{'kaggle.json': b'{\"username\":\"vidit64\",\"key\":\"97e40619934731fe29f37d3ed18dd5e6\"}'}"
            ]
          },
          "metadata": {
            "tags": []
          },
          "execution_count": 2
        }
      ]
    },
    {
      "cell_type": "code",
      "metadata": {
        "id": "BjhMl_5QGydt",
        "colab_type": "code",
        "colab": {}
      },
      "source": [
        "! mkdir ~/.kaggle\n",
        "! cp kaggle.json ~/.kaggle/"
      ],
      "execution_count": 0,
      "outputs": []
    },
    {
      "cell_type": "code",
      "metadata": {
        "id": "SihKhdF5Gzkq",
        "colab_type": "code",
        "colab": {}
      },
      "source": [
        "! chmod 600 ~/.kaggle/kaggle.json"
      ],
      "execution_count": 0,
      "outputs": []
    },
    {
      "cell_type": "code",
      "metadata": {
        "id": "XZJ7uzKcG2ip",
        "colab_type": "code",
        "colab": {
          "base_uri": "https://localhost:8080/",
          "height": 411
        },
        "outputId": "46f32c66-0c61-4f8f-ec93-93ab0015a08c"
      },
      "source": [
        " ! kaggle datasets list"
      ],
      "execution_count": 5,
      "outputs": [
        {
          "output_type": "stream",
          "text": [
            "ref                                                         title                                                size  lastUpdated          downloadCount  \n",
            "----------------------------------------------------------  --------------------------------------------------  -----  -------------------  -------------  \n",
            "new-york-state/nys-environmental-remediation-sites          NYS Environmental Remediation Sites                   3MB  2019-07-30 08:11:31           1226  \n",
            "new-york-city/new-york-city-current-job-postings            New York City Current Job Postings                    3MB  2019-07-28 22:04:53           4748  \n",
            "google/google-landmarks-dataset                             Google-Landmarks Dataset                            107MB  2019-07-29 12:00:28           9906  \n",
            "AnalyzeBoston/crimes-in-boston                              Crimes in Boston                                     10MB  2018-09-04 17:56:03           4974  \n",
            "jealousleopard/goodreadsbooks                               Goodreads-books                                     632KB  2019-06-14 16:35:05           5496  \n",
            "sudalairajkumar/chennai-water-management                    Chennai Water Management                             75KB  2019-06-19 03:42:44           4234  \n",
            "wkirgsn/electric-motor-temperature                          Electric Motor Temperature                           47MB  2019-06-19 11:12:41           2211  \n",
            "matheusfreitag/gas-prices-in-brazil                         Gas Prices in Brazil                                  3MB  2019-07-12 16:23:52           3275  \n",
            "r3w0p4/recorded-crime-data-at-police-force-area-level       Recorded Crime Data at the Police Force Area Level  300KB  2019-06-21 15:16:46           1178  \n",
            "jolasa/waves-measuring-buoys-data-mooloolaba                Waves Measuring Buoys Data                          599KB  2019-07-07 16:59:44            519  \n",
            "eliasdabbas/search-engine-results-flights-tickets-keywords  Search Engine Results - Flights & Tickets Keywords   21MB  2019-07-15 11:46:54            911  \n",
            "doit-intl/autotel-shared-car-locations                      Shared Cars Locations                                78MB  2019-01-10 13:06:00            559  \n",
            "Madgrades/uw-madison-courses                                UW Madison Courses and Grades 2006-2017              90MB  2018-05-15 18:58:25           1064  \n",
            "r3w0p4/bournemouth-venues                                   Venues in Bournemouth                                 3KB  2019-07-08 14:26:48            450  \n",
            "datafiniti/womens-shoes-prices                              Women's Shoe Prices                                  12MB  2019-06-24 22:50:14           8742  \n",
            "university-of-edinburgh/peace-agreements-dataset            Peace Agreements Dataset                              1MB  2018-03-05 16:39:50            448  \n",
            "citizen-ds-ghana/health-facilities-gh                       Ghana Health Facilities                              84KB  2018-09-03 01:19:24            528  \n",
            "inIT-OWL/vega-shrinkwrapper-runtofailure-data               Vega shrink-wrapper component degradation           408KB  2018-11-12 13:03:43            201  \n",
            "datafiniti/pizza-restaurants-and-the-pizza-they-sell        Pizza Restaurants and the Pizza They Sell           850KB  2019-05-30 00:21:21           3739  \n",
            "citylines/city-lines                                        Transit systems of world                              3MB  2019-03-25 16:53:05           1392  \n"
          ],
          "name": "stdout"
        }
      ]
    },
    {
      "cell_type": "code",
      "metadata": {
        "id": "mRB5ETxrG6WT",
        "colab_type": "code",
        "colab": {
          "base_uri": "https://localhost:8080/",
          "height": 68
        },
        "outputId": "6a8526aa-0a03-4bf0-bda1-962b52275271"
      },
      "source": [
        "!kaggle datasets download 'stackoverflow/stacksample'"
      ],
      "execution_count": 6,
      "outputs": [
        {
          "output_type": "stream",
          "text": [
            "Downloading stacksample.zip to /content\n",
            "100% 1.14G/1.15G [00:16<00:00, 80.2MB/s]\n",
            "100% 1.15G/1.15G [00:16<00:00, 72.5MB/s]\n"
          ],
          "name": "stdout"
        }
      ]
    },
    {
      "cell_type": "code",
      "metadata": {
        "id": "He8vCjQDHDug",
        "colab_type": "code",
        "colab": {
          "base_uri": "https://localhost:8080/",
          "height": 34
        },
        "outputId": "e3238c48-08b6-4a6f-b442-e14cbb6b57b2"
      },
      "source": [
        "!ls"
      ],
      "execution_count": 7,
      "outputs": [
        {
          "output_type": "stream",
          "text": [
            "kaggle.json  sample_data  stacksample.zip\n"
          ],
          "name": "stdout"
        }
      ]
    },
    {
      "cell_type": "code",
      "metadata": {
        "id": "aZlZ3nwmHKna",
        "colab_type": "code",
        "colab": {
          "base_uri": "https://localhost:8080/",
          "height": 102
        },
        "outputId": "b0cc6e4c-d2bc-496d-d1b9-3d7b295866d5"
      },
      "source": [
        "!unzip stacksample.zip\n",
        "!ls "
      ],
      "execution_count": 8,
      "outputs": [
        {
          "output_type": "stream",
          "text": [
            "Archive:  stacksample.zip\n",
            "  inflating: Answers.csv             \n",
            "  inflating: Questions.csv           \n",
            "  inflating: Tags.csv                \n",
            "Answers.csv  kaggle.json  Questions.csv  sample_data  stacksample.zip  Tags.csv\n"
          ],
          "name": "stdout"
        }
      ]
    },
    {
      "cell_type": "markdown",
      "metadata": {
        "id": "f77rER0i5KtW",
        "colab_type": "text"
      },
      "source": [
        "## Import libs"
      ]
    },
    {
      "cell_type": "code",
      "metadata": {
        "id": "fpiCIbYeHRQ9",
        "colab_type": "code",
        "colab": {}
      },
      "source": [
        "import pandas as pd\n",
        "import numpy as np\n",
        "\n",
        "\n",
        "import matplotlib.pyplot as plt\n",
        "import matplotlib.lines as mlines\n",
        "import seaborn as sns\n",
        "\n",
        "import warnings\n",
        "\n",
        "import pickle\n",
        "import time\n",
        "\n",
        "import re\n",
        "from bs4 import BeautifulSoup\n",
        "import nltk\n",
        "from nltk.tokenize import ToktokTokenizer\n",
        "from nltk.stem.wordnet import WordNetLemmatizer\n",
        "from nltk.corpus import stopwords\n",
        "from string import punctuation\n",
        "from wordcloud import WordCloud\n",
        "\n",
        "from sklearn.metrics import accuracy_score\n",
        "from sklearn.feature_extraction.text import TfidfVectorizer\n",
        "from sklearn.decomposition import LatentDirichletAllocation\n",
        "from sklearn.preprocessing import MultiLabelBinarizer\n",
        "from sklearn.model_selection import train_test_split\n",
        "from sklearn.model_selection import learning_curve\n",
        "from sklearn.model_selection import ShuffleSplit\n",
        "from sklearn.dummy import DummyClassifier\n",
        "from sklearn.naive_bayes import MultinomialNB\n",
        "from sklearn.linear_model import SGDClassifier\n",
        "from sklearn.linear_model import LogisticRegression\n",
        "from sklearn.multiclass import OneVsRestClassifier\n",
        "from sklearn.svm import LinearSVC\n",
        "from sklearn.linear_model import Perceptron\n",
        "from sklearn.linear_model import PassiveAggressiveClassifier\n",
        "from sklearn.neural_network import MLPClassifier\n",
        "from sklearn.ensemble import RandomForestClassifier\n",
        "from sklearn import model_selection\n",
        "from sklearn.metrics import make_scorer\n",
        "from sklearn.metrics import confusion_matrix\n",
        "from sklearn.metrics import hamming_loss\n",
        "from sklearn.cluster import KMeans\n",
        "\n",
        "\n",
        "import logging\n",
        "\n",
        "from scipy.sparse import hstack\n",
        "\n",
        "warnings.filterwarnings(\"ignore\")\n",
        "plt.style.use('bmh')\n",
        "%matplotlib inline"
      ],
      "execution_count": 0,
      "outputs": []
    },
    {
      "cell_type": "code",
      "metadata": {
        "id": "kFtWBUuEKbai",
        "colab_type": "code",
        "colab": {
          "base_uri": "https://localhost:8080/",
          "height": 204
        },
        "outputId": "ce8d815f-df57-4cfe-942a-90554ac0ab83"
      },
      "source": [
        "df = pd.read_csv(\"Questions.csv\", encoding=\"ISO-8859-1\")\n",
        "df.head()"
      ],
      "execution_count": 12,
      "outputs": [
        {
          "output_type": "execute_result",
          "data": {
            "text/html": [
              "<div>\n",
              "<style scoped>\n",
              "    .dataframe tbody tr th:only-of-type {\n",
              "        vertical-align: middle;\n",
              "    }\n",
              "\n",
              "    .dataframe tbody tr th {\n",
              "        vertical-align: top;\n",
              "    }\n",
              "\n",
              "    .dataframe thead th {\n",
              "        text-align: right;\n",
              "    }\n",
              "</style>\n",
              "<table border=\"1\" class=\"dataframe\">\n",
              "  <thead>\n",
              "    <tr style=\"text-align: right;\">\n",
              "      <th></th>\n",
              "      <th>Id</th>\n",
              "      <th>OwnerUserId</th>\n",
              "      <th>CreationDate</th>\n",
              "      <th>ClosedDate</th>\n",
              "      <th>Score</th>\n",
              "      <th>Title</th>\n",
              "      <th>Body</th>\n",
              "    </tr>\n",
              "  </thead>\n",
              "  <tbody>\n",
              "    <tr>\n",
              "      <th>0</th>\n",
              "      <td>80</td>\n",
              "      <td>26.0</td>\n",
              "      <td>2008-08-01T13:57:07Z</td>\n",
              "      <td>NaN</td>\n",
              "      <td>26</td>\n",
              "      <td>SQLStatement.execute() - multiple queries in o...</td>\n",
              "      <td>&lt;p&gt;I've written a database generation script i...</td>\n",
              "    </tr>\n",
              "    <tr>\n",
              "      <th>1</th>\n",
              "      <td>90</td>\n",
              "      <td>58.0</td>\n",
              "      <td>2008-08-01T14:41:24Z</td>\n",
              "      <td>2012-12-26T03:45:49Z</td>\n",
              "      <td>144</td>\n",
              "      <td>Good branching and merging tutorials for Torto...</td>\n",
              "      <td>&lt;p&gt;Are there any really good tutorials explain...</td>\n",
              "    </tr>\n",
              "    <tr>\n",
              "      <th>2</th>\n",
              "      <td>120</td>\n",
              "      <td>83.0</td>\n",
              "      <td>2008-08-01T15:50:08Z</td>\n",
              "      <td>NaN</td>\n",
              "      <td>21</td>\n",
              "      <td>ASP.NET Site Maps</td>\n",
              "      <td>&lt;p&gt;Has anyone got experience creating &lt;strong&gt;...</td>\n",
              "    </tr>\n",
              "    <tr>\n",
              "      <th>3</th>\n",
              "      <td>180</td>\n",
              "      <td>2089740.0</td>\n",
              "      <td>2008-08-01T18:42:19Z</td>\n",
              "      <td>NaN</td>\n",
              "      <td>53</td>\n",
              "      <td>Function for creating color wheels</td>\n",
              "      <td>&lt;p&gt;This is something I've pseudo-solved many t...</td>\n",
              "    </tr>\n",
              "    <tr>\n",
              "      <th>4</th>\n",
              "      <td>260</td>\n",
              "      <td>91.0</td>\n",
              "      <td>2008-08-01T23:22:08Z</td>\n",
              "      <td>NaN</td>\n",
              "      <td>49</td>\n",
              "      <td>Adding scripting functionality to .NET applica...</td>\n",
              "      <td>&lt;p&gt;I have a little game written in C#. It uses...</td>\n",
              "    </tr>\n",
              "  </tbody>\n",
              "</table>\n",
              "</div>"
            ],
            "text/plain": [
              "    Id  ...                                               Body\n",
              "0   80  ...  <p>I've written a database generation script i...\n",
              "1   90  ...  <p>Are there any really good tutorials explain...\n",
              "2  120  ...  <p>Has anyone got experience creating <strong>...\n",
              "3  180  ...  <p>This is something I've pseudo-solved many t...\n",
              "4  260  ...  <p>I have a little game written in C#. It uses...\n",
              "\n",
              "[5 rows x 7 columns]"
            ]
          },
          "metadata": {
            "tags": []
          },
          "execution_count": 12
        }
      ]
    },
    {
      "cell_type": "code",
      "metadata": {
        "id": "lFOjtaOSMTyr",
        "colab_type": "code",
        "colab": {
          "base_uri": "https://localhost:8080/",
          "height": 204
        },
        "outputId": "5f60494e-90e6-48f6-cb5e-8ab4e1413199"
      },
      "source": [
        "tags = pd.read_csv(\"Tags.csv\", encoding=\"ISO-8859-1\", dtype={'Tag': str})\n",
        "tags.head()"
      ],
      "execution_count": 13,
      "outputs": [
        {
          "output_type": "execute_result",
          "data": {
            "text/html": [
              "<div>\n",
              "<style scoped>\n",
              "    .dataframe tbody tr th:only-of-type {\n",
              "        vertical-align: middle;\n",
              "    }\n",
              "\n",
              "    .dataframe tbody tr th {\n",
              "        vertical-align: top;\n",
              "    }\n",
              "\n",
              "    .dataframe thead th {\n",
              "        text-align: right;\n",
              "    }\n",
              "</style>\n",
              "<table border=\"1\" class=\"dataframe\">\n",
              "  <thead>\n",
              "    <tr style=\"text-align: right;\">\n",
              "      <th></th>\n",
              "      <th>Id</th>\n",
              "      <th>Tag</th>\n",
              "    </tr>\n",
              "  </thead>\n",
              "  <tbody>\n",
              "    <tr>\n",
              "      <th>0</th>\n",
              "      <td>80</td>\n",
              "      <td>flex</td>\n",
              "    </tr>\n",
              "    <tr>\n",
              "      <th>1</th>\n",
              "      <td>80</td>\n",
              "      <td>actionscript-3</td>\n",
              "    </tr>\n",
              "    <tr>\n",
              "      <th>2</th>\n",
              "      <td>80</td>\n",
              "      <td>air</td>\n",
              "    </tr>\n",
              "    <tr>\n",
              "      <th>3</th>\n",
              "      <td>90</td>\n",
              "      <td>svn</td>\n",
              "    </tr>\n",
              "    <tr>\n",
              "      <th>4</th>\n",
              "      <td>90</td>\n",
              "      <td>tortoisesvn</td>\n",
              "    </tr>\n",
              "  </tbody>\n",
              "</table>\n",
              "</div>"
            ],
            "text/plain": [
              "   Id             Tag\n",
              "0  80            flex\n",
              "1  80  actionscript-3\n",
              "2  80             air\n",
              "3  90             svn\n",
              "4  90     tortoisesvn"
            ]
          },
          "metadata": {
            "tags": []
          },
          "execution_count": 13
        }
      ]
    },
    {
      "cell_type": "code",
      "metadata": {
        "id": "s902V3KnMaAg",
        "colab_type": "code",
        "colab": {}
      },
      "source": [
        "tags['Tag'] = tags['Tag'].astype(str)"
      ],
      "execution_count": 0,
      "outputs": []
    },
    {
      "cell_type": "code",
      "metadata": {
        "id": "uOzwYqJyO8Ok",
        "colab_type": "code",
        "colab": {
          "base_uri": "https://localhost:8080/",
          "height": 221
        },
        "outputId": "cff8a6fb-e50b-48a0-9e95-22f990283c68"
      },
      "source": [
        "df.info()"
      ],
      "execution_count": 17,
      "outputs": [
        {
          "output_type": "stream",
          "text": [
            "<class 'pandas.core.frame.DataFrame'>\n",
            "RangeIndex: 1264216 entries, 0 to 1264215\n",
            "Data columns (total 7 columns):\n",
            "Id              1264216 non-null int64\n",
            "OwnerUserId     1249762 non-null float64\n",
            "CreationDate    1264216 non-null object\n",
            "ClosedDate      55959 non-null object\n",
            "Score           1264216 non-null int64\n",
            "Title           1264216 non-null object\n",
            "Body            1264216 non-null object\n",
            "dtypes: float64(1), int64(2), object(4)\n",
            "memory usage: 67.5+ MB\n"
          ],
          "name": "stdout"
        }
      ]
    },
    {
      "cell_type": "code",
      "metadata": {
        "id": "R8Ywx44_O9ko",
        "colab_type": "code",
        "colab": {
          "base_uri": "https://localhost:8080/",
          "height": 136
        },
        "outputId": "b4673316-8ac3-4ce2-c708-9d91f5b4f075"
      },
      "source": [
        "tags.info()"
      ],
      "execution_count": 18,
      "outputs": [
        {
          "output_type": "stream",
          "text": [
            "<class 'pandas.core.frame.DataFrame'>\n",
            "RangeIndex: 3750994 entries, 0 to 3750993\n",
            "Data columns (total 2 columns):\n",
            "Id     int64\n",
            "Tag    object\n",
            "dtypes: int64(1), object(1)\n",
            "memory usage: 57.2+ MB\n"
          ],
          "name": "stdout"
        }
      ]
    },
    {
      "cell_type": "code",
      "metadata": {
        "id": "9iAOjdAhNmNg",
        "colab_type": "code",
        "colab": {
          "base_uri": "https://localhost:8080/",
          "height": 136
        },
        "outputId": "a76594e1-2f3e-4294-90ed-fd58a6abe93c"
      },
      "source": [
        "grouped_tags = tags.groupby(\"Id\")['Tag'].apply(lambda tags: ' '.join(tags))\n",
        "grouped_tags.head()"
      ],
      "execution_count": 15,
      "outputs": [
        {
          "output_type": "execute_result",
          "data": {
            "text/plain": [
              "Id\n",
              "80                            flex actionscript-3 air\n",
              "90       svn tortoisesvn branch branching-and-merging\n",
              "120                               sql asp.net sitemap\n",
              "180    algorithm language-agnostic colors color-space\n",
              "260           c# .net scripting compiler-construction\n",
              "Name: Tag, dtype: object"
            ]
          },
          "metadata": {
            "tags": []
          },
          "execution_count": 15
        }
      ]
    },
    {
      "cell_type": "code",
      "metadata": {
        "id": "HervURt_NqNk",
        "colab_type": "code",
        "colab": {
          "base_uri": "https://localhost:8080/",
          "height": 204
        },
        "outputId": "ac2bbc63-6438-4704-d166-27e9dc4d554c"
      },
      "source": [
        "grouped_tags.reset_index()\n",
        "grouped_tags_final = pd.DataFrame({'Id':grouped_tags.index, 'Tags':grouped_tags.values})\n",
        "grouped_tags_final.head()"
      ],
      "execution_count": 16,
      "outputs": [
        {
          "output_type": "execute_result",
          "data": {
            "text/html": [
              "<div>\n",
              "<style scoped>\n",
              "    .dataframe tbody tr th:only-of-type {\n",
              "        vertical-align: middle;\n",
              "    }\n",
              "\n",
              "    .dataframe tbody tr th {\n",
              "        vertical-align: top;\n",
              "    }\n",
              "\n",
              "    .dataframe thead th {\n",
              "        text-align: right;\n",
              "    }\n",
              "</style>\n",
              "<table border=\"1\" class=\"dataframe\">\n",
              "  <thead>\n",
              "    <tr style=\"text-align: right;\">\n",
              "      <th></th>\n",
              "      <th>Id</th>\n",
              "      <th>Tags</th>\n",
              "    </tr>\n",
              "  </thead>\n",
              "  <tbody>\n",
              "    <tr>\n",
              "      <th>0</th>\n",
              "      <td>80</td>\n",
              "      <td>flex actionscript-3 air</td>\n",
              "    </tr>\n",
              "    <tr>\n",
              "      <th>1</th>\n",
              "      <td>90</td>\n",
              "      <td>svn tortoisesvn branch branching-and-merging</td>\n",
              "    </tr>\n",
              "    <tr>\n",
              "      <th>2</th>\n",
              "      <td>120</td>\n",
              "      <td>sql asp.net sitemap</td>\n",
              "    </tr>\n",
              "    <tr>\n",
              "      <th>3</th>\n",
              "      <td>180</td>\n",
              "      <td>algorithm language-agnostic colors color-space</td>\n",
              "    </tr>\n",
              "    <tr>\n",
              "      <th>4</th>\n",
              "      <td>260</td>\n",
              "      <td>c# .net scripting compiler-construction</td>\n",
              "    </tr>\n",
              "  </tbody>\n",
              "</table>\n",
              "</div>"
            ],
            "text/plain": [
              "    Id                                            Tags\n",
              "0   80                         flex actionscript-3 air\n",
              "1   90    svn tortoisesvn branch branching-and-merging\n",
              "2  120                             sql asp.net sitemap\n",
              "3  180  algorithm language-agnostic colors color-space\n",
              "4  260         c# .net scripting compiler-construction"
            ]
          },
          "metadata": {
            "tags": []
          },
          "execution_count": 16
        }
      ]
    },
    {
      "cell_type": "code",
      "metadata": {
        "id": "H3zl8ztVOz1S",
        "colab_type": "code",
        "colab": {}
      },
      "source": [
        "df.drop(columns=['OwnerUserId', 'CreationDate', 'ClosedDate'], inplace=True)"
      ],
      "execution_count": 0,
      "outputs": []
    },
    {
      "cell_type": "code",
      "metadata": {
        "id": "70Z2GfzHPFBW",
        "colab_type": "code",
        "colab": {
          "base_uri": "https://localhost:8080/",
          "height": 204
        },
        "outputId": "d6d5c4a8-f95a-4147-d257-53ecfca1d427"
      },
      "source": [
        "df = df.merge(grouped_tags_final, on='Id')\n",
        "df.head()"
      ],
      "execution_count": 20,
      "outputs": [
        {
          "output_type": "execute_result",
          "data": {
            "text/html": [
              "<div>\n",
              "<style scoped>\n",
              "    .dataframe tbody tr th:only-of-type {\n",
              "        vertical-align: middle;\n",
              "    }\n",
              "\n",
              "    .dataframe tbody tr th {\n",
              "        vertical-align: top;\n",
              "    }\n",
              "\n",
              "    .dataframe thead th {\n",
              "        text-align: right;\n",
              "    }\n",
              "</style>\n",
              "<table border=\"1\" class=\"dataframe\">\n",
              "  <thead>\n",
              "    <tr style=\"text-align: right;\">\n",
              "      <th></th>\n",
              "      <th>Id</th>\n",
              "      <th>Score</th>\n",
              "      <th>Title</th>\n",
              "      <th>Body</th>\n",
              "      <th>Tags</th>\n",
              "    </tr>\n",
              "  </thead>\n",
              "  <tbody>\n",
              "    <tr>\n",
              "      <th>0</th>\n",
              "      <td>80</td>\n",
              "      <td>26</td>\n",
              "      <td>SQLStatement.execute() - multiple queries in o...</td>\n",
              "      <td>&lt;p&gt;I've written a database generation script i...</td>\n",
              "      <td>flex actionscript-3 air</td>\n",
              "    </tr>\n",
              "    <tr>\n",
              "      <th>1</th>\n",
              "      <td>90</td>\n",
              "      <td>144</td>\n",
              "      <td>Good branching and merging tutorials for Torto...</td>\n",
              "      <td>&lt;p&gt;Are there any really good tutorials explain...</td>\n",
              "      <td>svn tortoisesvn branch branching-and-merging</td>\n",
              "    </tr>\n",
              "    <tr>\n",
              "      <th>2</th>\n",
              "      <td>120</td>\n",
              "      <td>21</td>\n",
              "      <td>ASP.NET Site Maps</td>\n",
              "      <td>&lt;p&gt;Has anyone got experience creating &lt;strong&gt;...</td>\n",
              "      <td>sql asp.net sitemap</td>\n",
              "    </tr>\n",
              "    <tr>\n",
              "      <th>3</th>\n",
              "      <td>180</td>\n",
              "      <td>53</td>\n",
              "      <td>Function for creating color wheels</td>\n",
              "      <td>&lt;p&gt;This is something I've pseudo-solved many t...</td>\n",
              "      <td>algorithm language-agnostic colors color-space</td>\n",
              "    </tr>\n",
              "    <tr>\n",
              "      <th>4</th>\n",
              "      <td>260</td>\n",
              "      <td>49</td>\n",
              "      <td>Adding scripting functionality to .NET applica...</td>\n",
              "      <td>&lt;p&gt;I have a little game written in C#. It uses...</td>\n",
              "      <td>c# .net scripting compiler-construction</td>\n",
              "    </tr>\n",
              "  </tbody>\n",
              "</table>\n",
              "</div>"
            ],
            "text/plain": [
              "    Id  ...                                            Tags\n",
              "0   80  ...                         flex actionscript-3 air\n",
              "1   90  ...    svn tortoisesvn branch branching-and-merging\n",
              "2  120  ...                             sql asp.net sitemap\n",
              "3  180  ...  algorithm language-agnostic colors color-space\n",
              "4  260  ...         c# .net scripting compiler-construction\n",
              "\n",
              "[5 rows x 5 columns]"
            ]
          },
          "metadata": {
            "tags": []
          },
          "execution_count": 20
        }
      ]
    },
    {
      "cell_type": "code",
      "metadata": {
        "id": "dmz_1f9WPLwi",
        "colab_type": "code",
        "colab": {}
      },
      "source": [
        "new_df = df[df['Score']>5]"
      ],
      "execution_count": 0,
      "outputs": []
    },
    {
      "cell_type": "markdown",
      "metadata": {
        "id": "3UXybYvIPQBV",
        "colab_type": "text"
      },
      "source": [
        "# Cleaning Data"
      ]
    },
    {
      "cell_type": "code",
      "metadata": {
        "id": "fOS0xSqWPSpl",
        "colab_type": "code",
        "colab": {
          "base_uri": "https://localhost:8080/",
          "height": 350
        },
        "outputId": "aae38823-c34f-46d2-9c6e-fab07aba7428"
      },
      "source": [
        "plt.figure(figsize=(5, 5))\n",
        "new_df.isnull().mean(axis=0).plot.barh()\n",
        "plt.title(\"Ratio of missing values per columns\")"
      ],
      "execution_count": 22,
      "outputs": [
        {
          "output_type": "execute_result",
          "data": {
            "text/plain": [
              "Text(0.5, 1.0, 'Ratio of missing values per columns')"
            ]
          },
          "metadata": {
            "tags": []
          },
          "execution_count": 22
        },
        {
          "output_type": "display_data",
          "data": {
            "image/png": "[encoded data removed]",
            "text/plain": [
              "<Figure size 360x360 with 1 Axes>"
            ]
          },
          "metadata": {
            "tags": []
          }
        }
      ]
    },
    {
      "cell_type": "code",
      "metadata": {
        "id": "LR7VGoYPPU0Z",
        "colab_type": "code",
        "colab": {
          "base_uri": "https://localhost:8080/",
          "height": 34
        },
        "outputId": "a913cf42-d4ec-416a-d768-1e0b98b3a2b5"
      },
      "source": [
        "print('Dupplicate entries: {}'.format(new_df.duplicated().sum()))\n",
        "new_df.drop_duplicates(inplace = True)"
      ],
      "execution_count": 23,
      "outputs": [
        {
          "output_type": "stream",
          "text": [
            "Dupplicate entries: 0\n"
          ],
          "name": "stdout"
        }
      ]
    },
    {
      "cell_type": "markdown",
      "metadata": {
        "id": "UcS9ElQIPaWb",
        "colab_type": "text"
      },
      "source": [
        "This is a very good dataset since there are no missing valeus or dupplicate values.\n",
        "\n"
      ]
    },
    {
      "cell_type": "markdown",
      "metadata": {
        "id": "UVxDaiQuPnyG",
        "colab_type": "text"
      },
      "source": [
        "# Preprocessing Tags"
      ]
    },
    {
      "cell_type": "code",
      "metadata": {
        "id": "P2Y0-aR_Pb9u",
        "colab_type": "code",
        "colab": {}
      },
      "source": [
        "new_df['Tags'] = new_df['Tags'].apply(lambda x: x.split())\n"
      ],
      "execution_count": 0,
      "outputs": []
    },
    {
      "cell_type": "code",
      "metadata": {
        "id": "F2z8flHGPuDD",
        "colab_type": "code",
        "colab": {
          "base_uri": "https://localhost:8080/",
          "height": 34
        },
        "outputId": "4c8fd83e-9f46-47f3-83e5-e5985da68f3e"
      },
      "source": [
        "all_tags = [item for sublist in new_df['Tags'].values for item in sublist]\n",
        "print(\"Total no. of tags in dataset  {}\".format( len(all_tags) ) )"
      ],
      "execution_count": 30,
      "outputs": [
        {
          "output_type": "stream",
          "text": [
            "Total no. of tags in dataset  224129\n"
          ],
          "name": "stdout"
        }
      ]
    },
    {
      "cell_type": "markdown",
      "metadata": {
        "id": "EuyY0SwFQTqb",
        "colab_type": "text"
      },
      "source": [
        "Now find total number of unique tags in dataset"
      ]
    },
    {
      "cell_type": "code",
      "metadata": {
        "id": "0NqQmGagQQPf",
        "colab_type": "code",
        "colab": {
          "base_uri": "https://localhost:8080/",
          "height": 34
        },
        "outputId": "f514b12d-fdae-4734-a221-98c74aa85ad3"
      },
      "source": [
        "my_set = set(all_tags)\n",
        "unique_tags = list(my_set)\n",
        "print(\"Total no. of unique tags are {}\".format(len(unique_tags)))"
      ],
      "execution_count": 31,
      "outputs": [
        {
          "output_type": "stream",
          "text": [
            "Total no. of unique tags are 14883\n"
          ],
          "name": "stdout"
        }
      ]
    },
    {
      "cell_type": "markdown",
      "metadata": {
        "id": "AiqG0U0PQoax",
        "colab_type": "text"
      },
      "source": [
        "Now find most common tags "
      ]
    },
    {
      "cell_type": "markdown",
      "metadata": {
        "id": "ip2g4dgnUJuY",
        "colab_type": "text"
      },
      "source": [
        "# Analyzing Text"
      ]
    },
    {
      "cell_type": "code",
      "metadata": {
        "id": "xCxG0D7FQnrm",
        "colab_type": "code",
        "colab": {
          "base_uri": "https://localhost:8080/",
          "height": 607
        },
        "outputId": "d7b7e313-2b72-44ca-8db4-5eafb4be02f2"
      },
      "source": [
        "flat_list = [item for sublist in new_df['Tags'].values for item in sublist]\n",
        "\n",
        "keywords = nltk.FreqDist(flat_list)\n",
        "\n",
        "keywords = nltk.FreqDist(keywords)\n",
        "\n",
        "frequencies_words = keywords.most_common(100)\n",
        "tags_features = [word[0] for word in frequencies_words]\n",
        "tags_counts = [ word[1] for word in frequencies_words ]\n",
        "\n",
        "result = dict(zip(tags_features, tags_counts))\n",
        "tup = dict(result.items())\n",
        "\n",
        "# print('Following are most common tags')\n",
        "# print(tags_features)\n",
        "\n",
        "wordcloud = WordCloud(    background_color='black',\n",
        "                          width=1600,\n",
        "                          height=800,\n",
        "                    ).generate_from_frequencies(tup)\n",
        "\n",
        "fig = plt.figure(figsize=(20,8))\n",
        "plt.imshow(wordcloud)\n",
        "plt.axis('off')\n",
        "plt.tight_layout(pad=0)\n",
        "fig.savefig(\"tag.png\")\n",
        "plt.show()"
      ],
      "execution_count": 57,
      "outputs": [
        {
          "output_type": "display_data",
          "data": {
            "image/png": "[encoded data removed]",
            "text/plain": [
              "<Figure size 1440x576 with 1 Axes>"
            ]
          },
          "metadata": {
            "tags": []
          }
        }
      ]
    },
    {
      "cell_type": "code",
      "metadata": {
        "id": "j7lP_6a_Q8bN",
        "colab_type": "code",
        "colab": {
          "base_uri": "https://localhost:8080/",
          "height": 688
        },
        "outputId": "c2d3b436-c092-43f2-c1e2-f9f4a49e8165"
      },
      "source": [
        "fig, ax = plt.subplots(figsize=(15, 10))\n",
        "keywords.plot(100, cumulative=False)"
      ],
      "execution_count": 34,
      "outputs": [
        {
          "output_type": "display_data",
          "data": {
            "image/png": "[encoded data removed]",
            "text/plain": [
              "<Figure size 1080x720 with 1 Axes>"
            ]
          },
          "metadata": {
            "tags": []
          }
        }
      ]
    },
    {
      "cell_type": "markdown",
      "metadata": {
        "id": "AwonIhb8RHYW",
        "colab_type": "text"
      },
      "source": [
        "This figure shows that their is a exponentional decrease in tags counts  "
      ]
    },
    {
      "cell_type": "code",
      "metadata": {
        "id": "daFuj0k3R5kA",
        "colab_type": "code",
        "colab": {}
      },
      "source": [
        "new_df['Count'] = new_df['Tags'].apply(lambda x: len(x))"
      ],
      "execution_count": 0,
      "outputs": []
    },
    {
      "cell_type": "code",
      "metadata": {
        "id": "KLZffof7TZd9",
        "colab_type": "code",
        "colab": {
          "base_uri": "https://localhost:8080/",
          "height": 296
        },
        "outputId": "fdad514d-8dfe-4af9-9586-3702deebd72d"
      },
      "source": [
        "sns.countplot(x='Count', data= new_df, palette='gist_rainbow')\n",
        "plt.title(\"Number of tags in the questions \")\n",
        "plt.xlabel(\"Number of Tags\")\n",
        "plt.ylabel(\"Number of questions\")\n",
        "plt.show()"
      ],
      "execution_count": 41,
      "outputs": [
        {
          "output_type": "display_data",
          "data": {
            "image/png": "[encoded data removed]",
            "text/plain": [
              "<Figure size 432x288 with 1 Axes>"
            ]
          },
          "metadata": {
            "tags": []
          }
        }
      ]
    },
    {
      "cell_type": "markdown",
      "metadata": {
        "id": "-XQ8GyJMRg9U",
        "colab_type": "text"
      },
      "source": [
        "Now we replace all tags for a quesition  by most common tags. "
      ]
    },
    {
      "cell_type": "code",
      "metadata": {
        "id": "nJYHal_vRgKH",
        "colab_type": "code",
        "colab": {}
      },
      "source": [
        "def most_common(tags):\n",
        "    tags_filtered = []\n",
        "    for i in range(0, len(tags)):\n",
        "        if tags[i] in tags_features:\n",
        "            tags_filtered.append(tags[i])\n",
        "    return tags_filtered"
      ],
      "execution_count": 0,
      "outputs": []
    },
    {
      "cell_type": "code",
      "metadata": {
        "id": "-0j7dtMmQgEy",
        "colab_type": "code",
        "colab": {}
      },
      "source": [
        "new_df['Tags'] = new_df['Tags'].apply(lambda x: most_common(x))\n",
        "new_df['Tags'] = new_df['Tags'].apply(lambda x: x if len(x)>0 else None)"
      ],
      "execution_count": 0,
      "outputs": []
    },
    {
      "cell_type": "code",
      "metadata": {
        "id": "p5_4OSFsZp9f",
        "colab_type": "code",
        "colab": {
          "base_uri": "https://localhost:8080/",
          "height": 51
        },
        "outputId": "0764eba6-a102-4ec4-fb4a-14779b60cb52"
      },
      "source": [
        "print('Shape of dataset before removing Nan values {}'.format(new_df.shape))\n",
        "\n",
        "new_df.dropna(subset=['Tags'], inplace=True)\n",
        "print('Shape of dataset after removing Nan values {}'.format(new_df.shape))"
      ],
      "execution_count": 61,
      "outputs": [
        {
          "output_type": "stream",
          "text": [
            "Shape of dataset before removing Nan values (72950, 6)\n",
            "Shape of dataset after removing Nan values (63167, 6)\n"
          ],
          "name": "stdout"
        }
      ]
    },
    {
      "cell_type": "markdown",
      "metadata": {
        "id": "at8-_8igaEEI",
        "colab_type": "text"
      },
      "source": [
        "# Preprocessing Body text"
      ]
    },
    {
      "cell_type": "code",
      "metadata": {
        "id": "eaFpfGl3aDUI",
        "colab_type": "code",
        "colab": {}
      },
      "source": [
        "new_df['Body'] = new_df['Body'].apply(lambda x: BeautifulSoup(x).get_text()) "
      ],
      "execution_count": 0,
      "outputs": []
    },
    {
      "cell_type": "code",
      "metadata": {
        "id": "H2vGjoCyaQkP",
        "colab_type": "code",
        "colab": {}
      },
      "source": [
        "def clean_text(text):\n",
        "    text = text.lower()\n",
        "    text = re.sub(r\"what's\", \"what is \", text)\n",
        "    text = re.sub(r\"\\'s\", \" \", text)\n",
        "    text = re.sub(r\"\\'ve\", \" have \", text)\n",
        "    text = re.sub(r\"can't\", \"can not \", text)\n",
        "    text = re.sub(r\"n't\", \" not \", text)\n",
        "    text = re.sub(r\"i'm\", \"i am \", text)\n",
        "    text = re.sub(r\"\\'re\", \" are \", text)\n",
        "    text = re.sub(r\"\\'d\", \" would \", text)\n",
        "    text = re.sub(r\"\\'ll\", \" will \", text)\n",
        "    text = re.sub(r\"\\'scuse\", \" excuse \", text)\n",
        "    text = re.sub(r\"\\'\\n\", \" \", text)\n",
        "    text = re.sub(r\"\\'\\xa0\", \" \", text)\n",
        "    text = re.sub('\\s+', ' ', text)\n",
        "    text = text.strip(' ')\n",
        "    return text\n"
      ],
      "execution_count": 0,
      "outputs": []
    },
    {
      "cell_type": "code",
      "metadata": {
        "id": "ZyLE1hXbaUcO",
        "colab_type": "code",
        "colab": {}
      },
      "source": [
        "new_df['Body'] = new_df['Body'].apply(lambda x: clean_text(x)) "
      ],
      "execution_count": 0,
      "outputs": []
    },
    {
      "cell_type": "code",
      "metadata": {
        "id": "nmgXxJ-laX-1",
        "colab_type": "code",
        "colab": {}
      },
      "source": [
        "token=ToktokTokenizer()\n",
        "punct = '!\"#$%&\\'()*+,./:;<=>?@[\\\\]^_`{|}~'"
      ],
      "execution_count": 0,
      "outputs": []
    },
    {
      "cell_type": "code",
      "metadata": {
        "id": "crcsM2TqafAO",
        "colab_type": "code",
        "colab": {}
      },
      "source": [
        "def strip_list_noempty(mylist):\n",
        "    newlist = (item.strip() if hasattr(item, 'strip') else item for item in mylist)\n",
        "    return [item for item in newlist if item != '']"
      ],
      "execution_count": 0,
      "outputs": []
    },
    {
      "cell_type": "code",
      "metadata": {
        "id": "Iz0GZ3DBahWQ",
        "colab_type": "code",
        "colab": {}
      },
      "source": [
        "def clean_punct(text): \n",
        "    words=token.tokenize(text)\n",
        "    punctuation_filtered = []\n",
        "    regex = re.compile('[%s]' % re.escape(punct))\n",
        "    remove_punctuation = str.maketrans(' ', ' ', punct)\n",
        "    for w in words:\n",
        "        if w in tags_features:\n",
        "            punctuation_filtered.append(w)\n",
        "        else:\n",
        "            punctuation_filtered.append(regex.sub('', w))\n",
        "  \n",
        "    filtered_list = strip_list_noempty(punctuation_filtered)\n",
        "        \n",
        "    return ' '.join(map(str, filtered_list))"
      ],
      "execution_count": 0,
      "outputs": []
    },
    {
      "cell_type": "code",
      "metadata": {
        "id": "4Z6wE0UNajOt",
        "colab_type": "code",
        "colab": {}
      },
      "source": [
        "new_df['Body'] = new_df['Body'].apply(lambda x: clean_punct(x)) "
      ],
      "execution_count": 0,
      "outputs": []
    },
    {
      "cell_type": "code",
      "metadata": {
        "id": "18rKRbvnasEh",
        "colab_type": "code",
        "colab": {
          "base_uri": "https://localhost:8080/",
          "height": 71
        },
        "outputId": "eca13937-a035-41dd-8b4c-8d655e3f1eeb"
      },
      "source": [
        "print('test a sample element from Body')\n",
        "print( new_df['Body'][2] )"
      ],
      "execution_count": 69,
      "outputs": [
        {
          "output_type": "stream",
          "text": [
            "test a sample element from Body\n",
            "has anyone got experience creating sql-based asp.net site-map providers i have got the default xml file websitemap working properly with my menu and sitemappath controls but i will need a way for the users of my site to create and modify pages dynamically i need to tie page viewing permissions into the standard asp.net membership system as well\n"
          ],
          "name": "stdout"
        }
      ]
    },
    {
      "cell_type": "markdown",
      "metadata": {
        "id": "cA_iuS18a8ZU",
        "colab_type": "text"
      },
      "source": [
        "**Applying lemitization to Body column**"
      ]
    },
    {
      "cell_type": "code",
      "metadata": {
        "id": "R0rYoulqbKhM",
        "colab_type": "code",
        "colab": {
          "base_uri": "https://localhost:8080/",
          "height": 68
        },
        "outputId": "8da98257-62de-4b97-a73b-fc61be714dcc"
      },
      "source": [
        " nltk.download('stopwords')"
      ],
      "execution_count": 71,
      "outputs": [
        {
          "output_type": "stream",
          "text": [
            "[nltk_data] Downloading package stopwords to /root/nltk_data...\n",
            "[nltk_data]   Unzipping corpora/stopwords.zip.\n"
          ],
          "name": "stdout"
        },
        {
          "output_type": "execute_result",
          "data": {
            "text/plain": [
              "True"
            ]
          },
          "metadata": {
            "tags": []
          },
          "execution_count": 71
        }
      ]
    },
    {
      "cell_type": "code",
      "metadata": {
        "id": "O4Sjz9pWa668",
        "colab_type": "code",
        "colab": {}
      },
      "source": [
        "lemma=WordNetLemmatizer()\n",
        "stop_words = set(stopwords.words(\"english\"))"
      ],
      "execution_count": 0,
      "outputs": []
    },
    {
      "cell_type": "code",
      "metadata": {
        "id": "tU8hiTGlbNed",
        "colab_type": "code",
        "colab": {}
      },
      "source": [
        "def lemitizeWords(text):\n",
        "    words=token.tokenize(text)\n",
        "    listLemma=[]\n",
        "    for w in words:\n",
        "        x=lemma.lemmatize(w, pos=\"v\")\n",
        "        listLemma.append(x)\n",
        "    return ' '.join(map(str, listLemma))\n",
        "\n",
        "def stopWordsRemove(text):\n",
        "    \n",
        "    stop_words = set(stopwords.words(\"english\"))\n",
        "    \n",
        "    words=token.tokenize(text)\n",
        "    \n",
        "    filtered = [w for w in words if not w in stop_words]\n",
        "    \n",
        "    return ' '.join(map(str, filtered))"
      ],
      "execution_count": 0,
      "outputs": []
    },
    {
      "cell_type": "code",
      "metadata": {
        "id": "gQEbFRWZbRaA",
        "colab_type": "code",
        "colab": {}
      },
      "source": [
        "nltk.download('wordnet')\n",
        "new_df['Body'] = new_df['Body'].apply(lambda x: lemitizeWords(x)) \n",
        "new_df['Body'] = new_df['Body'].apply(lambda x: stopWordsRemove(x)) "
      ],
      "execution_count": 0,
      "outputs": []
    },
    {
      "cell_type": "markdown",
      "metadata": {
        "id": "Nc2HxTK4bdfr",
        "colab_type": "text"
      },
      "source": [
        "# Preprocessing Title text"
      ]
    },
    {
      "cell_type": "code",
      "metadata": {
        "id": "toAF9MXcbZL1",
        "colab_type": "code",
        "colab": {}
      },
      "source": [
        "new_df['Title'] = new_df['Title'].apply(lambda x: str(x))\n",
        "new_df['Title'] = new_df['Title'].apply(lambda x: clean_text(x)) \n",
        "new_df['Title'] = new_df['Title'].apply(lambda x: clean_punct(x)) \n",
        "new_df['Title'] = new_df['Title'].apply(lambda x: lemitizeWords(x)) \n",
        "new_df['Title'] = new_df['Title'].apply(lambda x: stopWordsRemove(x)) "
      ],
      "execution_count": 0,
      "outputs": []
    },
    {
      "cell_type": "markdown",
      "metadata": {
        "id": "8jc06opqbtdl",
        "colab_type": "text"
      },
      "source": [
        "# Exploratory data analysis ( EDA )\n",
        "\n",
        "![](https://phhp-faculty-cantrell.sites.medinfo.ufl.edu/files/2012/07/images-mod1-big-picture-eda.gif)\n",
        "<br>\n",
        "exploratory data analysis (EDA) is an approach to analyzing data sets to summarize their main characteristics, often with visual methods. A statistical model can be used or not, but primarily EDA is for seeing what the data can tell us beyond the formal modeling or hypothesis testing task.\n",
        "<br>\n",
        "<br>\n",
        "\n",
        "Here I'll just use some LDA to see if shows any paterns in words and the main topics."
      ]
    },
    {
      "cell_type": "code",
      "metadata": {
        "id": "RFZfyQBBbSk-",
        "colab_type": "code",
        "colab": {}
      },
      "source": [
        "no_topics = 20\n",
        "text = new_df['Body']\n",
        "vectorizer_train = TfidfVectorizer(analyzer = 'word',\n",
        "                                       min_df=0.0,\n",
        "                                       max_df = 1.0,\n",
        "                                       strip_accents = None,\n",
        "                                       encoding = 'utf-8', \n",
        "                                       preprocessor=None,\n",
        "                                       token_pattern=r\"(?u)\\S\\S+\", # Need to repeat token pattern\n",
        "                                       max_features=1000)"
      ],
      "execution_count": 0,
      "outputs": []
    },
    {
      "cell_type": "code",
      "metadata": {
        "id": "_KuHDjw3c84y",
        "colab_type": "code",
        "colab": {}
      },
      "source": [
        "TF_IDF_matrix = vectorizer_train.fit_transform(text)\n",
        "lda = LatentDirichletAllocation(n_components=no_topics, max_iter=5, learning_method='online', learning_offset=50,random_state=11).fit(TF_IDF_matrix)"
      ],
      "execution_count": 0,
      "outputs": []
    },
    {
      "cell_type": "code",
      "metadata": {
        "id": "ZXObTh1QdVGT",
        "colab_type": "code",
        "colab": {
          "base_uri": "https://localhost:8080/",
          "height": 1000
        },
        "outputId": "ab5909f2-74a9-4dab-8dbf-931525ec96d0"
      },
      "source": [
        "def display_topics(model, feature_names, no_top_words):\n",
        "    for topic_idx, topic in enumerate(model.components_):\n",
        "        print(\"--------------------------------------------\")\n",
        "        print(\"Topic %d:\" % (topic_idx))\n",
        "        print(\" \".join([feature_names[i]\n",
        "                        for i in topic.argsort()[:-no_top_words - 1:-1]]))\n",
        "        print(\"--------------------------------------------\")\n",
        "        \n",
        "\n",
        "no_top_words = 10\n",
        "display_topics(lda, vectorizer_train.get_feature_names(), no_top_words)"
      ],
      "execution_count": 81,
      "outputs": [
        {
          "output_type": "stream",
          "text": [
            "--------------------------------------------\n",
            "Topic 0:\n",
            "div function var html script class page jquery id input\n",
            "--------------------------------------------\n",
            "--------------------------------------------\n",
            "Topic 1:\n",
            "use app ios would find xcode like know android application\n",
            "--------------------------------------------\n",
            "--------------------------------------------\n",
            "Topic 2:\n",
            "00 scala font 09 01 02 tab utf-8 socket constant\n",
            "--------------------------------------------\n",
            "--------------------------------------------\n",
            "Topic 3:\n",
            "array list number data value would use like way function\n",
            "--------------------------------------------\n",
            "--------------------------------------------\n",
            "Topic 4:\n",
            "android width color height div background scroll style image top\n",
            "--------------------------------------------\n",
            "--------------------------------------------\n",
            "Topic 5:\n",
            "import python module modules def random filter statement docs 22\n",
            "--------------------------------------------\n",
            "--------------------------------------------\n",
            "Topic 6:\n",
            "button view android activity app event click menu item screen\n",
            "--------------------------------------------\n",
            "--------------------------------------------\n",
            "Topic 7:\n",
            "date datetime format 17 echo 00 time 15 convert year\n",
            "--------------------------------------------\n",
            "--------------------------------------------\n",
            "Topic 8:\n",
            "int public class return string void std type new foo\n",
            "--------------------------------------------\n",
            "--------------------------------------------\n",
            "Topic 9:\n",
            "file project error run use build command try install version\n",
            "--------------------------------------------\n",
            "--------------------------------------------\n",
            "Topic 10:\n",
            "table select query row column sql database id key value\n",
            "--------------------------------------------\n",
            "--------------------------------------------\n",
            "Topic 11:\n",
            "image json td tr cell label selector picture table img\n",
            "--------------------------------------------\n",
            "--------------------------------------------\n",
            "Topic 12:\n",
            "request server use error user file get url send connection\n",
            "--------------------------------------------\n",
            "--------------------------------------------\n",
            "Topic 13:\n",
            "rail gem ruby 12 11 14 pdf 13 10 18\n",
            "--------------------------------------------\n",
            "--------------------------------------------\n",
            "Topic 14:\n",
            "124 string character line match node text file regex print\n",
            "--------------------------------------------\n",
            "--------------------------------------------\n",
            "Topic 15:\n",
            "git branch commit push repository merge github master remote pull\n",
            "--------------------------------------------\n",
            "--------------------------------------------\n",
            "Topic 16:\n",
            "controller class model view use name public property get object\n",
            "--------------------------------------------\n",
            "--------------------------------------------\n",
            "Topic 17:\n",
            "thread exception catch queue throw lock bitmap child wait exit\n",
            "--------------------------------------------\n",
            "--------------------------------------------\n",
            "Topic 18:\n",
            "nsstring nil animate animation self dictionary cursor yes hide iphone\n",
            "--------------------------------------------\n",
            "--------------------------------------------\n",
            "Topic 19:\n",
            "use would function memory code like question test time one\n",
            "--------------------------------------------\n"
          ],
          "name": "stdout"
        }
      ]
    },
    {
      "cell_type": "markdown",
      "metadata": {
        "id": "NcOPx7Vndn9g",
        "colab_type": "text"
      },
      "source": [
        "It is not a good result\n"
      ]
    },
    {
      "cell_type": "markdown",
      "metadata": {
        "id": "kF7wGRPKeOcM",
        "colab_type": "text"
      },
      "source": [
        "# Classical classifiers\n",
        "\n",
        "##  Data preparation\n",
        "\n",
        "Now our data is almost ready to be put into a classifier. I just need to:\n",
        "\n",
        "\n",
        "\n",
        "*   Binarize the tags\n",
        "*   Use a TFIDF for body and Title The parameters in the TFIDF are very important for the performance of our tags since we don't want him to delete words like c# or.net. To do that we need to use the following pattern : token_pattern=r\"(?u)\\S\\S+\"\n",
        "\n"
      ]
    },
    {
      "cell_type": "code",
      "metadata": {
        "id": "KB5Kww_UeDTN",
        "colab_type": "code",
        "colab": {}
      },
      "source": [
        "X1 = new_df['Body']\n",
        "X2 = new_df['Title']\n",
        "y = new_df['Tags']"
      ],
      "execution_count": 0,
      "outputs": []
    },
    {
      "cell_type": "code",
      "metadata": {
        "id": "6Km5XspgfE2H",
        "colab_type": "code",
        "colab": {}
      },
      "source": [
        "multilabel_binarizer = MultiLabelBinarizer()\n",
        "y_bin = multilabel_binarizer.fit_transform(y)"
      ],
      "execution_count": 0,
      "outputs": []
    },
    {
      "cell_type": "code",
      "metadata": {
        "id": "_GLBQAL4fH4p",
        "colab_type": "code",
        "colab": {}
      },
      "source": [
        "vectorizer_X1 = TfidfVectorizer(analyzer = 'word',\n",
        "                                       min_df=0.0,\n",
        "                                       max_df = 1.0,\n",
        "                                       strip_accents = None,\n",
        "                                       encoding = 'utf-8', \n",
        "                                       preprocessor=None,\n",
        "                                       token_pattern=r\"(?u)\\S\\S+\",\n",
        "                                       max_features=1000)\n",
        "\n",
        "vectorizer_X2 = TfidfVectorizer(analyzer = 'word',\n",
        "                                       min_df=0.0,\n",
        "                                       max_df = 1.0,\n",
        "                                       strip_accents = None,\n",
        "                                       encoding = 'utf-8', \n",
        "                                       preprocessor=None,\n",
        "                                       token_pattern=r\"(?u)\\S\\S+\",\n",
        "                                       max_features=1000)"
      ],
      "execution_count": 0,
      "outputs": []
    },
    {
      "cell_type": "code",
      "metadata": {
        "id": "Bu1oMMPegf0M",
        "colab_type": "code",
        "colab": {}
      },
      "source": [
        "X1_tfidf = vectorizer_X1.fit_transform(X1)\n",
        "X2_tfidf = vectorizer_X2.fit_transform(X2)"
      ],
      "execution_count": 0,
      "outputs": []
    },
    {
      "cell_type": "code",
      "metadata": {
        "id": "JUI2Pb-OucZz",
        "colab_type": "code",
        "colab": {}
      },
      "source": [
        "hX_train, hX_test, hy_train, hy_test = train_test_split(X2_tfidf, y_bin, test_size = 0.2, random_state = 0) # Do 80/20 split"
      ],
      "execution_count": 0,
      "outputs": []
    },
    {
      "cell_type": "code",
      "metadata": {
        "id": "q8hckNcZgjdx",
        "colab_type": "code",
        "colab": {}
      },
      "source": [
        "X_tfidf = hstack([X1_tfidf,X2_tfidf])"
      ],
      "execution_count": 0,
      "outputs": []
    },
    {
      "cell_type": "code",
      "metadata": {
        "id": "wjavdKXcgrbv",
        "colab_type": "code",
        "colab": {}
      },
      "source": [
        "X_train, X_test, y_train, y_test = train_test_split(X_tfidf, y_bin, test_size = 0.2, random_state = 0) # Do 80/20 split\n"
      ],
      "execution_count": 0,
      "outputs": []
    },
    {
      "cell_type": "markdown",
      "metadata": {
        "id": "pS9FOKEEh8Bh",
        "colab_type": "text"
      },
      "source": [
        "# One vs Rest\n",
        "\n",
        "To evaluate our models, I'll use the jacard score since it's the best fitted for multi label classification.\n"
      ]
    },
    {
      "cell_type": "code",
      "metadata": {
        "id": "Ve8trX2fh1Hv",
        "colab_type": "code",
        "colab": {}
      },
      "source": [
        "def avg_jacard(y_true,y_pred):\n",
        "    '''\n",
        "    see https://en.wikipedia.org/wiki/Multi-label_classification#Statistics_and_evaluation_metrics\n",
        "    '''\n",
        "    jacard = np.minimum(y_true,y_pred).sum(axis=1) / np.maximum(y_true,y_pred).sum(axis=1)\n",
        "    \n",
        "    return jacard.mean()*100\n",
        "\n",
        "def print_score(y_pred, clf):\n",
        "    print(\"Clf: \", clf.__class__.__name__)\n",
        "    print(\"Jacard score: {}\".format(avg_jacard(y_test, y_pred)))\n",
        "    print(\"Hamming loss: {}\".format(hamming_loss(y_pred, y_test)*100))\n",
        "    "
      ],
      "execution_count": 0,
      "outputs": []
    },
    {
      "cell_type": "code",
      "metadata": {
        "id": "t_5dVg1WiGYc",
        "colab_type": "code",
        "colab": {
          "base_uri": "https://localhost:8080/",
          "height": 612
        },
        "outputId": "784c0131-3ab0-48f7-f275-023a64f7d774"
      },
      "source": [
        "dummy = DummyClassifier()\n",
        "sgd = SGDClassifier()\n",
        "lr = LogisticRegression()\n",
        "mn = MultinomialNB()\n",
        "svc = LinearSVC()\n",
        "perceptron = Perceptron()\n",
        "pac = PassiveAggressiveClassifier()\n",
        "\n",
        "for classifier in [dummy, sgd, lr, mn, svc, perceptron, pac]:\n",
        "    clf = OneVsRestClassifier(classifier)\n",
        "    clf.fit(X_train, y_train)\n",
        "    y_pred = clf.predict(X_test)\n",
        "    print_score(y_pred, classifier)\n",
        "    print('Accuracy score: {}'.format(accuracy_score( y_test, y_pred )))"
      ],
      "execution_count": 91,
      "outputs": [
        {
          "output_type": "stream",
          "text": [
            "Clf:  DummyClassifier\n",
            "Jacard score: 2.619993039693847\n",
            "Hamming loss: 3.0323729618489788\n",
            "---\n",
            "Accuracy score: 0.005857210701282254\n",
            "Clf:  SGDClassifier\n",
            "Jacard score: 47.610944013508515\n",
            "Hamming loss: 0.956624980212126\n",
            "---\n",
            "Accuracy score: 0.3493747031818901\n",
            "Clf:  LogisticRegression\n",
            "Jacard score: 48.3590575695214\n",
            "Hamming loss: 0.9707139464935887\n",
            "---\n",
            "Accuracy score: 0.34636694633528575\n",
            "Clf:  MultinomialNB\n",
            "Jacard score: 40.30181219234568\n",
            "Hamming loss: 1.1750039575747981\n",
            "---\n",
            "Accuracy score: 0.2604084217191705\n",
            "Clf:  LinearSVC\n",
            "Jacard score: 52.356208115666725\n",
            "Hamming loss: 0.9552794047807505\n",
            "---\n",
            "Accuracy score: 0.3714579705556435\n",
            "Clf:  Perceptron\n",
            "Jacard score: 46.88522530536143\n",
            "Hamming loss: 1.4487098306157986\n",
            "---\n",
            "Accuracy score: 0.2638119360455913\n",
            "Clf:  PassiveAggressiveClassifier\n",
            "Jacard score: 49.116330084352875\n",
            "Hamming loss: 1.2503561817318347\n",
            "---\n",
            "Accuracy score: 0.3021212600918157\n"
          ],
          "name": "stdout"
        }
      ]
    },
    {
      "cell_type": "markdown",
      "metadata": {
        "id": "tg95C59Ui6r-",
        "colab_type": "text"
      },
      "source": [
        "## MLP Classifier\n",
        "\n",
        "![](https://rasbt.github.io/mlxtend/user_guide/classifier/MultiLayerPerceptron_files/MultiLayerPerceptron_23_0.png)"
      ]
    },
    {
      "cell_type": "code",
      "metadata": {
        "id": "SSMnoCssi8Kf",
        "colab_type": "code",
        "colab": {
          "base_uri": "https://localhost:8080/",
          "height": 102
        },
        "outputId": "36acfe02-b73e-4919-d3d4-57a7a650f01e"
      },
      "source": [
        "mlpc = MLPClassifier()\n",
        "mlpc.fit(X_train, y_train)\n",
        "\n",
        "y_pred = mlpc.predict(X_test)\n",
        "\n",
        "print_score(y_pred, mlpc)\n",
        "print('Accuracy score: {}'.format(accuracy_score( y_test, y_pred )))"
      ],
      "execution_count": 92,
      "outputs": [
        {
          "output_type": "stream",
          "text": [
            "Clf:  MLPClassifier\n",
            "Jacard score: 48.5543450402165\n",
            "Hamming loss: 1.3370270698116196\n",
            "---\n",
            "Accuracy score: 0.2823333861009973\n"
          ],
          "name": "stdout"
        }
      ]
    },
    {
      "cell_type": "markdown",
      "metadata": {
        "id": "QykhM4Duv_gB",
        "colab_type": "text"
      },
      "source": [
        "## Random Forest\n",
        "![](https://miro.medium.com/max/1184/1*i0o8mjFfCn-uD79-F1Cqkw.png)"
      ]
    },
    {
      "cell_type": "code",
      "metadata": {
        "id": "-at4PKsMjIDh",
        "colab_type": "code",
        "colab": {
          "base_uri": "https://localhost:8080/",
          "height": 85
        },
        "outputId": "b69e8b16-b7b8-4998-ac76-037cc617cfcf"
      },
      "source": [
        "rfc = RandomForestClassifier()\n",
        "rfc.fit(X_train, y_train)\n",
        "\n",
        "y_pred = rfc.predict(X_test)\n",
        "\n",
        "print_score(y_pred, rfc)\n",
        "print('Accuracy score: {}'.format(accuracy_score( y_test, y_pred )))"
      ],
      "execution_count": 94,
      "outputs": [
        {
          "output_type": "stream",
          "text": [
            "Clf:  RandomForestClassifier\n",
            "Jacard score: 42.31333438868661\n",
            "Hamming loss: 1.0654582871616274\n",
            "Accuracy score: 0.3091657432325471\n"
          ],
          "name": "stdout"
        }
      ]
    },
    {
      "cell_type": "markdown",
      "metadata": {
        "id": "zkHeAZkY5l4K",
        "colab_type": "text"
      },
      "source": [
        "# GridSearch CV on the best classifier\n",
        "\n",
        "![](https://raw.githubusercontent.com/nslatysheva/data_science_blogging/master/expanding_ML_toolkit/expanding_toolkit.jpg)"
      ]
    },
    {
      "cell_type": "code",
      "metadata": {
        "id": "0sQVM-9YvUyR",
        "colab_type": "code",
        "colab": {}
      },
      "source": [
        "param_grid = {'estimator__C':[1,10,100,1000]\n",
        "              }"
      ],
      "execution_count": 0,
      "outputs": []
    },
    {
      "cell_type": "code",
      "metadata": {
        "id": "6SfmZ6JUwPwD",
        "colab_type": "code",
        "colab": {
          "base_uri": "https://localhost:8080/",
          "height": 1000
        },
        "outputId": "12029c04-ac66-41c7-9d2b-5d4582cc088d"
      },
      "source": [
        "svc = OneVsRestClassifier(LinearSVC())\n",
        "CV_svc = model_selection.GridSearchCV(estimator=svc, param_grid=param_grid, cv= 5, verbose=10, scoring=make_scorer(avg_jacard,greater_is_better=True))\n",
        "CV_svc.fit(X_train, y_train)"
      ],
      "execution_count": 115,
      "outputs": [
        {
          "output_type": "stream",
          "text": [
            "Fitting 5 folds for each of 4 candidates, totalling 20 fits\n",
            "[CV] estimator__C=1 ..................................................\n"
          ],
          "name": "stdout"
        },
        {
          "output_type": "stream",
          "text": [
            "[Parallel(n_jobs=1)]: Using backend SequentialBackend with 1 concurrent workers.\n"
          ],
          "name": "stderr"
        },
        {
          "output_type": "stream",
          "text": [
            "[CV] ..................... estimator__C=1, score=52.335, total=  17.6s\n",
            "[CV] estimator__C=1 ..................................................\n"
          ],
          "name": "stdout"
        },
        {
          "output_type": "stream",
          "text": [
            "[Parallel(n_jobs=1)]: Done   1 out of   1 | elapsed:   17.6s remaining:    0.0s\n"
          ],
          "name": "stderr"
        },
        {
          "output_type": "stream",
          "text": [
            "[CV] ..................... estimator__C=1, score=52.115, total=  17.3s\n",
            "[CV] estimator__C=1 ..................................................\n"
          ],
          "name": "stdout"
        },
        {
          "output_type": "stream",
          "text": [
            "[Parallel(n_jobs=1)]: Done   2 out of   2 | elapsed:   35.0s remaining:    0.0s\n"
          ],
          "name": "stderr"
        },
        {
          "output_type": "stream",
          "text": [
            "[CV] ..................... estimator__C=1, score=51.207, total=  17.3s\n",
            "[CV] estimator__C=1 ..................................................\n"
          ],
          "name": "stdout"
        },
        {
          "output_type": "stream",
          "text": [
            "[Parallel(n_jobs=1)]: Done   3 out of   3 | elapsed:   52.3s remaining:    0.0s\n"
          ],
          "name": "stderr"
        },
        {
          "output_type": "stream",
          "text": [
            "[CV] ..................... estimator__C=1, score=50.967, total=  16.7s\n",
            "[CV] estimator__C=1 ..................................................\n"
          ],
          "name": "stdout"
        },
        {
          "output_type": "stream",
          "text": [
            "[Parallel(n_jobs=1)]: Done   4 out of   4 | elapsed:  1.2min remaining:    0.0s\n"
          ],
          "name": "stderr"
        },
        {
          "output_type": "stream",
          "text": [
            "[CV] ..................... estimator__C=1, score=51.546, total=  17.5s\n",
            "[CV] estimator__C=10 .................................................\n"
          ],
          "name": "stdout"
        },
        {
          "output_type": "stream",
          "text": [
            "[Parallel(n_jobs=1)]: Done   5 out of   5 | elapsed:  1.4min remaining:    0.0s\n"
          ],
          "name": "stderr"
        },
        {
          "output_type": "stream",
          "text": [
            "[CV] .................... estimator__C=10, score=48.658, total=  55.1s\n",
            "[CV] estimator__C=10 .................................................\n"
          ],
          "name": "stdout"
        },
        {
          "output_type": "stream",
          "text": [
            "[Parallel(n_jobs=1)]: Done   6 out of   6 | elapsed:  2.4min remaining:    0.0s\n"
          ],
          "name": "stderr"
        },
        {
          "output_type": "stream",
          "text": [
            "[CV] .................... estimator__C=10, score=48.319, total=  52.0s\n",
            "[CV] estimator__C=10 .................................................\n"
          ],
          "name": "stdout"
        },
        {
          "output_type": "stream",
          "text": [
            "[Parallel(n_jobs=1)]: Done   7 out of   7 | elapsed:  3.2min remaining:    0.0s\n"
          ],
          "name": "stderr"
        },
        {
          "output_type": "stream",
          "text": [
            "[CV] .................... estimator__C=10, score=47.885, total=  53.7s\n",
            "[CV] estimator__C=10 .................................................\n"
          ],
          "name": "stdout"
        },
        {
          "output_type": "stream",
          "text": [
            "[Parallel(n_jobs=1)]: Done   8 out of   8 | elapsed:  4.1min remaining:    0.0s\n"
          ],
          "name": "stderr"
        },
        {
          "output_type": "stream",
          "text": [
            "[CV] .................... estimator__C=10, score=46.934, total=  55.2s\n",
            "[CV] estimator__C=10 .................................................\n"
          ],
          "name": "stdout"
        },
        {
          "output_type": "stream",
          "text": [
            "[Parallel(n_jobs=1)]: Done   9 out of   9 | elapsed:  5.0min remaining:    0.0s\n"
          ],
          "name": "stderr"
        },
        {
          "output_type": "stream",
          "text": [
            "[CV] .................... estimator__C=10, score=47.594, total=  55.0s\n",
            "[CV] estimator__C=100 ................................................\n",
            "[CV] ................... estimator__C=100, score=44.896, total= 1.4min\n",
            "[CV] estimator__C=100 ................................................\n",
            "[CV] ................... estimator__C=100, score=44.752, total= 1.4min\n",
            "[CV] estimator__C=100 ................................................\n",
            "[CV] ................... estimator__C=100, score=44.271, total= 1.4min\n",
            "[CV] estimator__C=100 ................................................\n",
            "[CV] ................... estimator__C=100, score=43.613, total= 1.3min\n",
            "[CV] estimator__C=100 ................................................\n",
            "[CV] ................... estimator__C=100, score=44.427, total= 1.4min\n",
            "[CV] estimator__C=1000 ...............................................\n",
            "[CV] .................. estimator__C=1000, score=41.591, total= 1.5min\n",
            "[CV] estimator__C=1000 ...............................................\n",
            "[CV] .................. estimator__C=1000, score=42.480, total= 1.5min\n",
            "[CV] estimator__C=1000 ...............................................\n",
            "[CV] .................. estimator__C=1000, score=42.552, total= 1.5min\n",
            "[CV] estimator__C=1000 ...............................................\n",
            "[CV] .................. estimator__C=1000, score=41.768, total= 1.4min\n",
            "[CV] estimator__C=1000 ...............................................\n",
            "[CV] .................. estimator__C=1000, score=42.616, total= 1.5min\n"
          ],
          "name": "stdout"
        },
        {
          "output_type": "stream",
          "text": [
            "[Parallel(n_jobs=1)]: Done  20 out of  20 | elapsed: 20.1min finished\n"
          ],
          "name": "stderr"
        },
        {
          "output_type": "execute_result",
          "data": {
            "text/plain": [
              "GridSearchCV(cv=5, error_score='raise-deprecating',\n",
              "             estimator=OneVsRestClassifier(estimator=LinearSVC(C=1.0,\n",
              "                                                               class_weight=None,\n",
              "                                                               dual=True,\n",
              "                                                               fit_intercept=True,\n",
              "                                                               intercept_scaling=1,\n",
              "                                                               loss='squared_hinge',\n",
              "                                                               max_iter=1000,\n",
              "                                                               multi_class='ovr',\n",
              "                                                               penalty='l2',\n",
              "                                                               random_state=None,\n",
              "                                                               tol=0.0001,\n",
              "                                                               verbose=0),\n",
              "                                           n_jobs=None),\n",
              "             iid='warn', n_jobs=None,\n",
              "             param_grid={'estimator__C': [1, 10, 100, 1000]},\n",
              "             pre_dispatch='2*n_jobs', refit=True, return_train_score=False,\n",
              "             scoring=make_scorer(avg_jacard), verbose=10)"
            ]
          },
          "metadata": {
            "tags": []
          },
          "execution_count": 115
        }
      ]
    },
    {
      "cell_type": "code",
      "metadata": {
        "id": "DpaVkd2zwUe2",
        "colab_type": "code",
        "colab": {
          "base_uri": "https://localhost:8080/",
          "height": 34
        },
        "outputId": "de202ae8-d4ff-4532-8371-92620f072309"
      },
      "source": [
        "CV_svc.best_params_"
      ],
      "execution_count": 116,
      "outputs": [
        {
          "output_type": "execute_result",
          "data": {
            "text/plain": [
              "{'estimator__C': 1}"
            ]
          },
          "metadata": {
            "tags": []
          },
          "execution_count": 116
        }
      ]
    },
    {
      "cell_type": "code",
      "metadata": {
        "id": "79KqWhfwwYCM",
        "colab_type": "code",
        "colab": {
          "base_uri": "https://localhost:8080/",
          "height": 85
        },
        "outputId": "a059d9a4-289b-4c8e-9fc3-73a0d5af9582"
      },
      "source": [
        "best_model = CV_svc.best_estimator_\n",
        "\n",
        "y_pred = best_model.predict(X_test)\n",
        "\n",
        "print_score(y_pred, best_model)\n",
        "print('Accuracy score: {}'.format(accuracy_score( y_test, y_pred )))"
      ],
      "execution_count": 117,
      "outputs": [
        {
          "output_type": "stream",
          "text": [
            "Clf:  OneVsRestClassifier\n",
            "Jacard score: 52.356208115666725\n",
            "Hamming loss: 0.9552794047807505\n",
            "Accuracy score: 0.3714579705556435\n"
          ],
          "name": "stdout"
        }
      ]
    },
    {
      "cell_type": "markdown",
      "metadata": {
        "id": "DqPzGMFf3jUZ",
        "colab_type": "text"
      },
      "source": [
        "##  Confusion matrix"
      ]
    },
    {
      "cell_type": "code",
      "metadata": {
        "id": "LhgXyjs53lJb",
        "colab_type": "code",
        "colab": {
          "base_uri": "https://localhost:8080/",
          "height": 1000
        },
        "outputId": "b350ce61-74bf-412d-90fa-3f0c5b029034"
      },
      "source": [
        "for i in range(y_train.shape[1]):\n",
        "    print(multilabel_binarizer.classes_[i])\n",
        "    print(confusion_matrix(y_test[:,i], y_pred[:,i]))\n",
        "    print(\"\")"
      ],
      "execution_count": 118,
      "outputs": [
        {
          "output_type": "stream",
          "text": [
            ".net\n",
            "[[12033    54]\n",
            " [  447   100]]\n",
            "\n",
            "ajax\n",
            "[[12526    15]\n",
            " [   55    38]]\n",
            "\n",
            "algorithm\n",
            "[[12445    21]\n",
            " [   87    81]]\n",
            "\n",
            "android\n",
            "[[11528    40]\n",
            " [  194   872]]\n",
            "\n",
            "angularjs\n",
            "[[12443     7]\n",
            " [   49   135]]\n",
            "\n",
            "api\n",
            "[[12567    14]\n",
            " [   45     8]]\n",
            "\n",
            "arrays\n",
            "[[12405    55]\n",
            " [  103    71]]\n",
            "\n",
            "asp.net\n",
            "[[12346    30]\n",
            " [  166    92]]\n",
            "\n",
            "asp.net-mvc\n",
            "[[12402    41]\n",
            " [   99    92]]\n",
            "\n",
            "asp.net-mvc-3\n",
            "[[12566    11]\n",
            " [   44    13]]\n",
            "\n",
            "bash\n",
            "[[12520     7]\n",
            " [   46    61]]\n",
            "\n",
            "c\n",
            "[[12220    58]\n",
            " [  203   153]]\n",
            "\n",
            "c#\n",
            "[[11060   175]\n",
            " [  618   781]]\n",
            "\n",
            "c++\n",
            "[[11674    91]\n",
            " [  260   609]]\n",
            "\n",
            "c++11\n",
            "[[12453    31]\n",
            " [  103    47]]\n",
            "\n",
            "class\n",
            "[[12574    12]\n",
            " [   45     3]]\n",
            "\n",
            "cocoa\n",
            "[[12553     4]\n",
            " [   69     8]]\n",
            "\n",
            "cocoa-touch\n",
            "[[12530    10]\n",
            " [   90     4]]\n",
            "\n",
            "css\n",
            "[[12186    74]\n",
            " [  123   251]]\n",
            "\n",
            "css3\n",
            "[[12561    13]\n",
            " [   45    15]]\n",
            "\n",
            "database\n",
            "[[12503    29]\n",
            " [   84    18]]\n",
            "\n",
            "datetime\n",
            "[[12571    17]\n",
            " [   36    10]]\n",
            "\n",
            "debugging\n",
            "[[12523    27]\n",
            " [   50    34]]\n",
            "\n",
            "delphi\n",
            "[[12542     2]\n",
            " [   39    51]]\n",
            "\n",
            "design-patterns\n",
            "[[12573    11]\n",
            " [   36    14]]\n",
            "\n",
            "django\n",
            "[[12465     7]\n",
            " [   31   131]]\n",
            "\n",
            "eclipse\n",
            "[[12472     9]\n",
            " [   55    98]]\n",
            "\n",
            "emacs\n",
            "[[12591     1]\n",
            " [   16    26]]\n",
            "\n",
            "entity-framework\n",
            "[[12547    20]\n",
            " [   36    31]]\n",
            "\n",
            "exception\n",
            "[[12551    17]\n",
            " [   43    23]]\n",
            "\n",
            "facebook\n",
            "[[12571     9]\n",
            " [   17    37]]\n",
            "\n",
            "function\n",
            "[[12576    11]\n",
            " [   44     3]]\n",
            "\n",
            "gcc\n",
            "[[12566    12]\n",
            " [   35    21]]\n",
            "\n",
            "generics\n",
            "[[12558     9]\n",
            " [   31    36]]\n",
            "\n",
            "git\n",
            "[[12425     8]\n",
            " [   17   184]]\n",
            "\n",
            "github\n",
            "[[12575     5]\n",
            " [   23    31]]\n",
            "\n",
            "google-chrome\n",
            "[[12559     8]\n",
            " [   33    34]]\n",
            "\n",
            "haskell\n",
            "[[12497     5]\n",
            " [   70    62]]\n",
            "\n",
            "hibernate\n",
            "[[12570     5]\n",
            " [   16    43]]\n",
            "\n",
            "html\n",
            "[[12109   102]\n",
            " [  261   162]]\n",
            "\n",
            "html5\n",
            "[[12506     7]\n",
            " [   77    44]]\n",
            "\n",
            "http\n",
            "[[12563    14]\n",
            " [   41    16]]\n",
            "\n",
            "image\n",
            "[[12561    15]\n",
            " [   50     8]]\n",
            "\n",
            "ios\n",
            "[[12001    93]\n",
            " [  283   257]]\n",
            "\n",
            "ipad\n",
            "[[12573     2]\n",
            " [   42    17]]\n",
            "\n",
            "iphone\n",
            "[[12227    49]\n",
            " [  246   112]]\n",
            "\n",
            "java\n",
            "[[11130   144]\n",
            " [  565   795]]\n",
            "\n",
            "javascript\n",
            "[[11338   168]\n",
            " [  511   617]]\n",
            "\n",
            "jquery\n",
            "[[12011    65]\n",
            " [  199   359]]\n",
            "\n",
            "json\n",
            "[[12474    24]\n",
            " [   65    71]]\n",
            "\n",
            "linq\n",
            "[[12536    14]\n",
            " [   37    47]]\n",
            "\n",
            "linux\n",
            "[[12420    27]\n",
            " [  121    66]]\n",
            "\n",
            "list\n",
            "[[12540    19]\n",
            " [   61    14]]\n",
            "\n",
            "math\n",
            "[[12577    10]\n",
            " [   46     1]]\n",
            "\n",
            "maven\n",
            "[[12563    15]\n",
            " [   15    41]]\n",
            "\n",
            "mongodb\n",
            "[[12569     1]\n",
            " [   33    31]]\n",
            "\n",
            "multithreading\n",
            "[[12468    25]\n",
            " [   85    56]]\n",
            "\n",
            "mysql\n",
            "[[12363    32]\n",
            " [   74   165]]\n",
            "\n",
            "node.js\n",
            "[[12446    13]\n",
            " [   71   104]]\n",
            "\n",
            "numpy\n",
            "[[12579     4]\n",
            " [   26    25]]\n",
            "\n",
            "objective-c\n",
            "[[12199    81]\n",
            " [  249   105]]\n",
            "\n",
            "oop\n",
            "[[12573     5]\n",
            " [   56     0]]\n",
            "\n",
            "optimization\n",
            "[[12584     4]\n",
            " [   46     0]]\n",
            "\n",
            "oracle\n",
            "[[12576     3]\n",
            " [   25    30]]\n",
            "\n",
            "osx\n",
            "[[12493    15]\n",
            " [   88    38]]\n",
            "\n",
            "performance\n",
            "[[12437    29]\n",
            " [  133    35]]\n",
            "\n",
            "perl\n",
            "[[12563     0]\n",
            " [   27    44]]\n",
            "\n",
            "php\n",
            "[[12001    38]\n",
            " [  218   377]]\n",
            "\n",
            "postgresql\n",
            "[[12572     0]\n",
            " [   29    33]]\n",
            "\n",
            "python\n",
            "[[11715    51]\n",
            " [  240   628]]\n",
            "\n",
            "qt\n",
            "[[12585     2]\n",
            " [   24    23]]\n",
            "\n",
            "r\n",
            "[[12384    31]\n",
            " [   97   122]]\n",
            "\n",
            "regex\n",
            "[[12499    10]\n",
            " [   41    84]]\n",
            "\n",
            "rest\n",
            "[[12565     9]\n",
            " [   30    30]]\n",
            "\n",
            "ruby\n",
            "[[12311    36]\n",
            " [  158   129]]\n",
            "\n",
            "ruby-on-rails\n",
            "[[12304    41]\n",
            " [  105   184]]\n",
            "\n",
            "ruby-on-rails-3\n",
            "[[12526    21]\n",
            " [   75    12]]\n",
            "\n",
            "scala\n",
            "[[12488     7]\n",
            " [   36   103]]\n",
            "\n",
            "security\n",
            "[[12564     9]\n",
            " [   44    17]]\n",
            "\n",
            "shell\n",
            "[[12554    13]\n",
            " [   43    24]]\n",
            "\n",
            "spring\n",
            "[[12516    15]\n",
            " [   35    68]]\n",
            "\n",
            "sql\n",
            "[[12269    70]\n",
            " [  158   137]]\n",
            "\n",
            "sql-server\n",
            "[[12390    50]\n",
            " [   98    96]]\n",
            "\n",
            "string\n",
            "[[12432    54]\n",
            " [   93    55]]\n",
            "\n",
            "svn\n",
            "[[12586     6]\n",
            " [   12    30]]\n",
            "\n",
            "swift\n",
            "[[12521     5]\n",
            " [   35    73]]\n",
            "\n",
            "swing\n",
            "[[12582     2]\n",
            " [   28    22]]\n",
            "\n",
            "templates\n",
            "[[12542    13]\n",
            " [   44    35]]\n",
            "\n",
            "tsql\n",
            "[[12562    16]\n",
            " [   52     4]]\n",
            "\n",
            "twitter-bootstrap\n",
            "[[12565     2]\n",
            " [   21    46]]\n",
            "\n",
            "unit-testing\n",
            "[[12478    28]\n",
            " [   70    58]]\n",
            "\n",
            "vim\n",
            "[[12571     2]\n",
            " [   15    46]]\n",
            "\n",
            "visual-studio\n",
            "[[12497    29]\n",
            " [   72    36]]\n",
            "\n",
            "visual-studio-2010\n",
            "[[12542    17]\n",
            " [   52    23]]\n",
            "\n",
            "wcf\n",
            "[[12583     0]\n",
            " [   12    39]]\n",
            "\n",
            "windows\n",
            "[[12454    30]\n",
            " [  112    38]]\n",
            "\n",
            "winforms\n",
            "[[12556    14]\n",
            " [   42    22]]\n",
            "\n",
            "wpf\n",
            "[[12463     8]\n",
            " [   55   108]]\n",
            "\n",
            "xcode\n",
            "[[12426    26]\n",
            " [  102    80]]\n",
            "\n",
            "xml\n",
            "[[12507    17]\n",
            " [   58    52]]\n",
            "\n"
          ],
          "name": "stdout"
        }
      ]
    },
    {
      "cell_type": "code",
      "metadata": {
        "id": "dEjf-CbY34an",
        "colab_type": "code",
        "colab": {}
      },
      "source": [
        "for i in range(y_train.shape[1]):\n",
        "    print(multilabel_binarizer.classes_[i])\n",
        "    print(confusion_matrix(y_test[:,i], y_pred[:,i]))\n",
        "    print(\"\")"
      ],
      "execution_count": 0,
      "outputs": []
    },
    {
      "cell_type": "code",
      "metadata": {
        "id": "Rrgnfmwm4K62",
        "colab_type": "code",
        "colab": {}
      },
      "source": [
        "def print_top10(feature_names, clf, class_labels):\n",
        "    \"\"\"Prints features with the highest coefficient values, per class\"\"\"\n",
        "    for i, class_label in enumerate(class_labels):\n",
        "        top10 = np.argsort(clf.coef_[i])[-10:]\n",
        "        print(\"--------------------------------------------\")\n",
        "        print(\"%s: %s\" % (class_label,\n",
        "              \" \".join(feature_names[j] for j in top10)))\n",
        "        print(\"--------------------------------------------\")"
      ],
      "execution_count": 0,
      "outputs": []
    },
    {
      "cell_type": "code",
      "metadata": {
        "id": "Iv1kzioO4O4T",
        "colab_type": "code",
        "colab": {}
      },
      "source": [
        "feature_names = vectorizer_X1.get_feature_names() + vectorizer_X2.get_feature_names()"
      ],
      "execution_count": 0,
      "outputs": []
    },
    {
      "cell_type": "code",
      "metadata": {
        "id": "E8_L80HH4QsB",
        "colab_type": "code",
        "colab": {
          "base_uri": "https://localhost:8080/",
          "height": 1000
        },
        "outputId": "d112979b-cb20-44b5-9651-cdf2528592b8"
      },
      "source": [
        "print_top10(feature_names, best_model, multilabel_binarizer.classes_)"
      ],
      "execution_count": 121,
      "outputs": [
        {
          "output_type": "stream",
          "text": [
            "--------------------------------------------\n",
            ".net: determine finally sender windows mouse assembly microsoft consolewriteline .net .net\n",
            "--------------------------------------------\n",
            "--------------------------------------------\n",
            "ajax: much 10 img request web items security load ajax ajax\n",
            "--------------------------------------------\n",
            "--------------------------------------------\n",
            "algorithm: log input additional stick give although diff problem algorithm algorithm\n",
            "--------------------------------------------\n",
            "--------------------------------------------\n",
            "android: webview eandroidruntime linearlayout fragment edittext intent textview activity android android\n",
            "--------------------------------------------\n",
            "--------------------------------------------\n",
            "angularjs: resource factory integrate token config directive controller scope angular angularjs\n",
            "--------------------------------------------\n",
            "--------------------------------------------\n",
            "api: virtual border interface retrieve deal webview docs dependency api api\n",
            "--------------------------------------------\n",
            "--------------------------------------------\n",
            "arrays: particular chart autocomplete rest success username step come array array\n",
            "--------------------------------------------\n",
            "--------------------------------------------\n",
            "asp.net: external port entire trace website control server iis asp.net asp.net\n",
            "--------------------------------------------\n",
            "--------------------------------------------\n",
            "asp.net-mvc: try ie inherit provider action platform view razor mvc mvc\n",
            "--------------------------------------------\n",
            "--------------------------------------------\n",
            "asp.net-mvc-3: us instead prefer description successfully side download view razor mvc3\n",
            "--------------------------------------------\n",
            "--------------------------------------------\n",
            "bash: short local home 21 22 variables syntax script echo bash\n",
            "--------------------------------------------\n",
            "--------------------------------------------\n",
            "c: relevant sizeof define complex char struct embed cc gcc printf\n",
            "--------------------------------------------\n",
            "--------------------------------------------\n",
            "c#: datetime remain sender winforms linq typeof foreach c# consolewriteline c#\n",
            "--------------------------------------------\n",
            "--------------------------------------------\n",
            "c++: c++11 std opencv boost cout cc stl std c++ c++\n",
            "--------------------------------------------\n",
            "--------------------------------------------\n",
            "c++11: obviously initialize tuple standard via std template move auto c++11\n",
            "--------------------------------------------\n",
            "--------------------------------------------\n",
            "class: thing tuple public whenever outside next compiler quite cout class\n",
            "--------------------------------------------\n",
            "--------------------------------------------\n",
            "cocoa: window last notification launch super 21 easily nslog mac cocoa\n",
            "--------------------------------------------\n",
            "--------------------------------------------\n",
            "cocoa-touch: cocoa amount upgrade animation management programatically several validate visible longer\n",
            "--------------------------------------------\n",
            "--------------------------------------------\n",
            "css: trace stick override couple web area less fix css css\n",
            "--------------------------------------------\n",
            "--------------------------------------------\n",
            "css3: initialize ways must transform 50 unknown title initialization selector css3\n",
            "--------------------------------------------\n",
            "--------------------------------------------\n",
            "database: cross ms configuration special iterate db resolve progress database database\n",
            "--------------------------------------------\n",
            "--------------------------------------------\n",
            "datetime: reason 09 provider ex behavior wonder prefer original datetime datetime\n",
            "--------------------------------------------\n",
            "--------------------------------------------\n",
            "debugging: finish value print suppose drive bug attach debug debug debugger\n",
            "--------------------------------------------\n",
            "--------------------------------------------\n",
            "delphi: sample unit old 2010 finally component end begin procedure delphi\n",
            "--------------------------------------------\n",
            "--------------------------------------------\n",
            "design-patterns: think developer specifically script useful compilation design clean pattern pattern\n",
            "--------------------------------------------\n",
            "--------------------------------------------\n",
            "django: instal iterate temporary play textjavascript place admin model django django\n",
            "--------------------------------------------\n",
            "--------------------------------------------\n",
            "eclipse: model properties shortcut others problem explorer pull software eclipse eclipse\n",
            "--------------------------------------------\n",
            "--------------------------------------------\n",
            "emacs: search enable recently behaviour configure 24 mode nil buffer emacs\n",
            "--------------------------------------------\n",
            "--------------------------------------------\n",
            "entity-framework: context property apply framework db first entity framework entity ef\n",
            "--------------------------------------------\n",
            "--------------------------------------------\n",
            "exception: instead wo validate exception insert kind exceptions sense exception exceptions\n",
            "--------------------------------------------\n",
            "--------------------------------------------\n",
            "facebook: class confuse post sdk callback ask effect customize facebook facebook\n",
            "--------------------------------------------\n",
            "--------------------------------------------\n",
            "function: twice bool 24 function length datetime enough sign function definition\n",
            "--------------------------------------------\n",
            "--------------------------------------------\n",
            "gcc: native enable target tutorial margin 32 information declare gcc gcc\n",
            "--------------------------------------------\n",
            "--------------------------------------------\n",
            "generics: setup typeof progress others recently extend via generic generic generics\n",
            "--------------------------------------------\n",
            "--------------------------------------------\n",
            "git: diff repo local commit commit master history branch git git\n",
            "--------------------------------------------\n",
            "--------------------------------------------\n",
            "github: live tag bundle whole unexpected access push upgrade github github\n",
            "--------------------------------------------\n",
            "--------------------------------------------\n",
            "google-chrome: href absolute instead history problems garbage 404 bug chrome chrome\n",
            "--------------------------------------------\n",
            "--------------------------------------------\n",
            "haskell: bool perhaps derive type xs language append maybe instance haskell\n",
            "--------------------------------------------\n",
            "--------------------------------------------\n",
            "hibernate: every retrieve generate nothing entity jpa fetch session transaction hibernate\n",
            "--------------------------------------------\n",
            "--------------------------------------------\n",
            "html: overflow finally td along fix elements onclick div html html\n",
            "--------------------------------------------\n",
            "--------------------------------------------\n",
            "html5: progress maximum proper overflow browser css3 main canvas audio html5\n",
            "--------------------------------------------\n",
            "--------------------------------------------\n",
            "http: enable client param js lose functionality request large http http\n",
            "--------------------------------------------\n",
            "--------------------------------------------\n",
            "image: onclick around 2d confuse activity image yes img image picture\n",
            "--------------------------------------------\n",
            "--------------------------------------------\n",
            "ios: nslog delegate ui due app alloc swift apple ios ios\n",
            "--------------------------------------------\n",
            "--------------------------------------------\n",
            "ipad: finish visible orientation exit ways else detail less hard ipad\n",
            "--------------------------------------------\n",
            "--------------------------------------------\n",
            "iphone: uitableview rather resolution push core 40 release delegate iphone iphone\n",
            "--------------------------------------------\n",
            "--------------------------------------------\n",
            "java: final jar extend tomcat servlet jvm swing systemoutprintln java java\n",
            "--------------------------------------------\n",
            "--------------------------------------------\n",
            "javascript: chart js chrome onclick undefined consolelog var js javascript javascript\n",
            "--------------------------------------------\n",
            "--------------------------------------------\n",
            "jquery: complete global protect click clone plugin ajax ready jquery jquery\n",
            "--------------------------------------------\n",
            "--------------------------------------------\n",
            "json: serialize description callback retrieve absolute anything field original json json\n",
            "--------------------------------------------\n",
            "--------------------------------------------\n",
            "linq: inherit collection source expression member cod solve var well linq\n",
            "--------------------------------------------\n",
            "--------------------------------------------\n",
            "linux: setup fill edit process child cursor state ps linux linux\n",
            "--------------------------------------------\n",
            "--------------------------------------------\n",
            "list: several horizontal faster -1 rather several clear big list list\n",
            "--------------------------------------------\n",
            "--------------------------------------------\n",
            "math: computer hold unique hit log calculate logic fast assume evaluate\n",
            "--------------------------------------------\n",
            "--------------------------------------------\n",
            "maven: info easy increase yes dependency modules advance execution maven maven\n",
            "--------------------------------------------\n",
            "--------------------------------------------\n",
            "mongodb: group thus shell err driver db cursor document collection mongodb\n",
            "--------------------------------------------\n",
            "--------------------------------------------\n",
            "multithreading: completely suggestions 100 solve prevent complete separate thread lock thread\n",
            "--------------------------------------------\n",
            "--------------------------------------------\n",
            "mysql: us users 24 limit database root per track mysql mysql\n",
            "--------------------------------------------\n",
            "--------------------------------------------\n",
            "node.js: virtual schema â require node express node err nodejs node.js\n",
            "--------------------------------------------\n",
            "--------------------------------------------\n",
            "numpy: amazon instead ignore import pure matrix array fix far numpy\n",
            "--------------------------------------------\n",
            "--------------------------------------------\n",
            "objective-c: exceptions ios selector textjavascript super cocoa nsstring nslog objective objective-c\n",
            "--------------------------------------------\n",
            "--------------------------------------------\n",
            "oop: directly object fastest finish couple class obvious fit refer design\n",
            "--------------------------------------------\n",
            "--------------------------------------------\n",
            "optimization: site 05 pad bitmap compiler faster couple root optimization optimize\n",
            "--------------------------------------------\n",
            "--------------------------------------------\n",
            "oracle: management schema number feature end developer max replace begin oracle\n",
            "--------------------------------------------\n",
            "--------------------------------------------\n",
            "osx: cocoa notification setup terminal os apple os mac mac osx\n",
            "--------------------------------------------\n",
            "--------------------------------------------\n",
            "performance: efficient important faster entire ways speed faster performance slow performance\n",
            "--------------------------------------------\n",
            "--------------------------------------------\n",
            "perl: less upgrade trace print script warn job foreach fetch perl\n",
            "--------------------------------------------\n",
            "--------------------------------------------\n",
            "php: modules construct foreach protect echo array codeigniter laravel php php\n",
            "--------------------------------------------\n",
            "--------------------------------------------\n",
            "postgresql: people much heroku several sqlalchemy docs database sure postgres postgresql\n",
            "--------------------------------------------\n",
            "--------------------------------------------\n",
            "python: import pip flask def sqlalchemy matplotlib pandas numpy python python\n",
            "--------------------------------------------\n",
            "--------------------------------------------\n",
            "qt: effect could 30 unsigned connect parent picture actually develop qt\n",
            "--------------------------------------------\n",
            "--------------------------------------------\n",
            "r: variables frame datatable vector function library package na plot ggplot2\n",
            "--------------------------------------------\n",
            "--------------------------------------------\n",
            "regex: either 17 operation replace several regular match regular regex regex\n",
            "--------------------------------------------\n",
            "--------------------------------------------\n",
            "rest: multiple anything entity finish service sense produce rest restful rest\n",
            "--------------------------------------------\n",
            "--------------------------------------------\n",
            "ruby: inject activerecord unfortunately longer put bundle gem end ruby ruby\n",
            "--------------------------------------------\n",
            "--------------------------------------------\n",
            "ruby-on-rails: config production heroku render devise model end activerecord rail rail\n",
            "--------------------------------------------\n",
            "--------------------------------------------\n",
            "ruby-on-rails-3: blank rspec config original assignment 27 rail couple deploy rail\n",
            "--------------------------------------------\n",
            "--------------------------------------------\n",
            "scala: repo transform case extend equal play def val scala scala\n",
            "--------------------------------------------\n",
            "--------------------------------------------\n",
            "security: directly https certificate everything provider software injection security secure security\n",
            "--------------------------------------------\n",
            "--------------------------------------------\n",
            "shell: go sort correct thing 22 parent attach unix shell shell\n",
            "--------------------------------------------\n",
            "--------------------------------------------\n",
            "spring: final response nest entities br primary info bean spring spring\n",
            "--------------------------------------------\n",
            "--------------------------------------------\n",
            "sql: top system per varchar info whole select production sql sql\n",
            "--------------------------------------------\n",
            "--------------------------------------------\n",
            "sql-server: select procedure sql email recommend transaction varchar server studio server\n",
            "--------------------------------------------\n",
            "--------------------------------------------\n",
            "string: remain sign large assign lose tab perform parent string string\n",
            "--------------------------------------------\n",
            "--------------------------------------------\n",
            "svn: fine branch sit ask explorer commit repository svn subversion svn\n",
            "--------------------------------------------\n",
            "--------------------------------------------\n",
            "swift: aware developer active optional protocol init var func let swift\n",
            "--------------------------------------------\n",
            "--------------------------------------------\n",
            "swing: also practice confuse feel gui yet frame new component swing\n",
            "--------------------------------------------\n",
            "--------------------------------------------\n",
            "templates: type codeigniter deal declare article drop simple template template templates\n",
            "--------------------------------------------\n",
            "--------------------------------------------\n",
            "tsql: statement 32 create interest transaction equal real already xml top\n",
            "--------------------------------------------\n",
            "--------------------------------------------\n",
            "twitter-bootstrap: browser important render orientation launch center class less twitter bootstrap\n",
            "--------------------------------------------\n",
            "--------------------------------------------\n",
            "unit-testing: let several trouble things anybody test unit mock unit test\n",
            "--------------------------------------------\n",
            "--------------------------------------------\n",
            "vim: visual let better modify mode stack plugin switch somewhere vim\n",
            "--------------------------------------------\n",
            "--------------------------------------------\n",
            "visual-studio: pointer want whenever visual debug studio big studio visual vs\n",
            "--------------------------------------------\n",
            "--------------------------------------------\n",
            "visual-studio-2010: modules visual great anyway press hit 45 definition 2010 2010\n",
            "--------------------------------------------\n",
            "--------------------------------------------\n",
            "wcf: zero reason security iis layer software cancel bind service wcf\n",
            "--------------------------------------------\n",
            "--------------------------------------------\n",
            "windows: checkbox whether kernel 40 drive dll apps batch windows windows\n",
            "--------------------------------------------\n",
            "--------------------------------------------\n",
            "winforms: explorer operation success windows notification control form form close winforms\n",
            "--------------------------------------------\n",
            "--------------------------------------------\n",
            "wpf: raise resource child control property visual xmlns ui bind wpf\n",
            "--------------------------------------------\n",
            "--------------------------------------------\n",
            "xcode: expect bundle logic target step framework profile attach xcode xcode\n",
            "--------------------------------------------\n",
            "--------------------------------------------\n",
            "xml: clean apple microsoft integration tutorial template xs layoutwidth xml xml\n",
            "--------------------------------------------\n"
          ],
          "name": "stdout"
        }
      ]
    }
  ]
}